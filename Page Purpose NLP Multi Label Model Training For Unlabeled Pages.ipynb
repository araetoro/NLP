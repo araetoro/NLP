{
 "cells": [
  {
   "cell_type": "markdown",
   "metadata": {},
   "source": [
    "# Importing Libraries"
   ]
  },
  {
   "cell_type": "code",
   "execution_count": 1,
   "metadata": {},
   "outputs": [],
   "source": [
    "import numpy as np\n",
    "import matplotlib.pyplot as plt\n",
    "import pandas as pd\n",
    "import seaborn as sns\n",
    "import category_encoders"
   ]
  },
  {
   "cell_type": "markdown",
   "metadata": {},
   "source": [
    "# Importing The Dataset"
   ]
  },
  {
   "cell_type": "code",
   "execution_count": 2,
   "metadata": {},
   "outputs": [],
   "source": [
    "dataset = pd.read_csv('Page_Content.csv')\n",
    "labeled_datadset = pd.read_csv('Page Purpose Labeld Data.csv')"
   ]
  },
  {
   "cell_type": "markdown",
   "metadata": {},
   "source": [
    "# Data Cleaning"
   ]
  },
  {
   "cell_type": "code",
   "execution_count": 3,
   "metadata": {},
   "outputs": [
    {
     "data": {
      "text/plain": [
       "(459, 3)"
      ]
     },
     "execution_count": 3,
     "metadata": {},
     "output_type": "execute_result"
    }
   ],
   "source": [
    "# creating the labeled training set\n",
    "df = pd.merge(dataset, labeled_datadset, how = \"right\", on =['Page URL'], )\n",
    "df.shape"
   ]
  },
  {
   "cell_type": "code",
   "execution_count": 4,
   "metadata": {},
   "outputs": [],
   "source": [
    "# removing rows with empty 'Page Content' cells\n",
    "df = df.dropna(subset = [\"Page Content\"], how = \"all\")"
   ]
  },
  {
   "cell_type": "code",
   "execution_count": 5,
   "metadata": {},
   "outputs": [
    {
     "data": {
      "text/plain": [
       "(430, 3)"
      ]
     },
     "execution_count": 5,
     "metadata": {},
     "output_type": "execute_result"
    }
   ],
   "source": [
    "df.shape"
   ]
  },
  {
   "cell_type": "code",
   "execution_count": 6,
   "metadata": {},
   "outputs": [],
   "source": [
    "# creating a label encoder (did not use in final model)\n",
    "#enc = category_encoders.one_hot.OneHotEncoder(cols = ['Page Purpose'], drop_invariant = False, use_cat_names = True, return_df = True,)\n",
    "# df2 = enc.fit_transform(df)\n",
    "# df2 = df2.drop(['Page Purpose_-1'], axis = 1)\n",
    "# df2"
   ]
  },
  {
   "cell_type": "code",
   "execution_count": 8,
   "metadata": {
    "scrolled": true
   },
   "outputs": [
    {
     "data": {
      "text/plain": [
       "<matplotlib.axes._subplots.AxesSubplot at 0x1679f242358>"
      ]
     },
     "execution_count": 8,
     "metadata": {},
     "output_type": "execute_result"
    },
    {
     "data": {
      "image/png": "[encoded data removed]",
      "text/plain": [
       "<Figure size 432x288 with 1 Axes>"
      ]
     },
     "metadata": {
      "needs_background": "light"
     },
     "output_type": "display_data"
    }
   ],
   "source": [
    "# labels represented in the labeled training set\n",
    "sns.countplot(df['Page Purpose'])"
   ]
  },
  {
   "cell_type": "markdown",
   "metadata": {},
   "source": [
    "# Text Cleaning"
   ]
  },
  {
   "cell_type": "code",
   "execution_count": 9,
   "metadata": {},
   "outputs": [],
   "source": [
    "# importing text cleaning libraries\n",
    "import re\n",
    "import nltk\n",
    "from nltk.corpus import stopwords\n",
    "from nltk.stem.porter import PorterStemmer\n",
    "import string"
   ]
  },
  {
   "cell_type": "code",
   "execution_count": 10,
   "metadata": {},
   "outputs": [],
   "source": [
    "# Text cleaning function\n",
    "def message_cleaning(message):\n",
    "    test_punc_removed = [char for char in message if char not in string.punctuation ]\n",
    "    test_punc_removed_join = ''.join(test_punc_removed)\n",
    "    test_punc_removed_join_nums = re.sub('[^a-zA-Z]+', ' ', test_punc_removed_join)\n",
    "    test_punc_removed_join_nums_clean = [word for word in test_punc_removed_join_nums.split() if word.lower() not in stopwords.words('english')]\n",
    "    return test_punc_removed_join_nums_clean\n",
    "    "
   ]
  },
  {
   "cell_type": "code",
   "execution_count": 11,
   "metadata": {
    "collapsed": true
   },
   "outputs": [
    {
     "name": "stdout",
     "output_type": "stream",
     "text": [
      "['AA', 'AAQEP', 'AAS', 'ABC', 'ACBSP', 'ACEIThe', 'ACEIThis', 'ACEInWGU', 'ACT', 'ADN', 'AHIMA', 'AI', 'AIS', 'ANA', 'AONE', 'AONExa', 'AP', 'APA', 'API', 'APIB', 'APII', 'ASCD', 'ATI', 'ATT', 'AWS', 'AXELOS', 'Absolutely', 'Academic', 'Academies', 'Academy', 'Academyxa', 'Accelerate', 'Acceptance', 'Accepted', 'According', 'Accountant', 'Accountants', 'Accounting', 'Accreditation', 'AccreditationInternational', 'Accredited', 'Accrediting', 'Acquire', 'Act', 'ActnIf', 'Actually', 'Adding', 'Additional', 'Additionally', 'Adequate', 'Administration', 'AdministrationAssociate', 'Administrative', 'Administrator', 'Administrators', 'Admission', 'AdmissionTransferringn', 'Admissions', 'Advanced', 'Advancing', 'Advisory', 'Aetna', 'Affairs', 'Affordable', 'Agency', 'Agreement', 'Aid', 'Air', 'Airlines', 'Alabama', 'Alaska', 'Alaskan', 'Albrecht', 'Alfred', 'Allow', 'Almost', 'Along', 'Already', 'Also', 'Alternative', 'Although', 'Amazon', 'America', 'American', 'Americans', 'Americas', 'Among', 'Analytics', 'AnalyticsnOnce', 'Andrew', 'Angela', 'Angeles', 'Another', 'Anticipate', 'Anticipatory', 'Antioxidantrich', 'Anyone', 'Anytime', 'Applicants', 'ApplicantsnUnfortunately', 'Application', 'Applied', 'Apply', 'April', 'Aquaman', 'Archimedes', 'Archive', 'Arizona', 'Arkansas', 'Armed', 'Arts', 'Ashley', 'Asianxa', 'Aside', 'Ask', 'Assess', 'Assessment', 'Assessmentxa', 'Asset', 'Assistance', 'Associate', 'Association', 'AssociationnNote', 'Associationxa', 'Assurance', 'Atlanta', 'AtlantaOur', 'Atlanticxa', 'Atomic', 'Attempting', 'Attendance', 'Auditor', 'Aug', 'August', 'Automated', 'Available', 'Avoid', 'Award', 'Awardxa', 'Axa', 'Axelos', 'BA', 'BBA', 'BLS', 'BLSxa', 'BS', 'BSN', 'BSNIn', 'BSNlevel', 'BSNlevelxa', 'BSNprepared', 'BSNtoMSN', 'BSRN', 'BSxa', 'Baby', 'Baccalaureate', 'Bachelor', 'Bachelors', 'Back', 'Background', 'Balancing', 'Baltimore', 'Bank', 'Banking', 'Based', 'Basic', 'Baum', 'Beavis', 'Become', 'Becoming', 'Behind', 'Benchmarks', 'Best', 'Better', 'Big', 'Bill', 'Biochemistry', 'Biological', 'Biology', 'Black', 'Bloomberg', 'Board', 'Body', 'Bolstering', 'Boom', 'Boomer', 'Boost', 'Borrowing', 'Boston', 'Break', 'Brian', 'Brigham', 'Bring', 'Brittany', 'Bunsen', 'Bureau', 'Business', 'BusinessCollege', 'BusinessSince', 'Businesses', 'Businessweek', 'ButtHead', 'C', 'CAEP', 'CAEPaccredited', 'CAEPaccreditedNote', 'CAEPaccreditedNotexa', 'CAHIIM', 'CAHIIMaccredited', 'CAHIIMnAll', 'CAHIIMnnBack', 'CAPM', 'CBE', 'CCNA', 'CCNE', 'CCNEaccredited', 'CCNEaccreditedxa', 'CCSP', 'CECThe', 'CEO', 'CEOs', 'CIA', 'CIO', 'CIOOur', 'CIOs', 'CIQG', 'CIS', 'CISO', 'CISSP', 'CIW', 'CLEP', 'CMA', 'CNN', 'CNNMoneyPayscales', 'CODiE', 'CPA', 'CS', 'CTO', 'CUs', 'Calculating', 'Calculator', 'CalculatorWGU', 'California', 'CaliforniaEnrollment', 'Californias', 'Californiaxa', 'Calling', 'Camp', 'Canada', 'Canyon', 'Capek', 'Capra', 'Capstone', 'Care', 'Career', 'Careerfocused', 'Careers', 'Careful', 'Carolina', 'Case', 'Census', 'Center', 'Centers', 'Central', 'Certain', 'Certainly', 'Certification', 'Certifications', 'Certified', 'Chancellor', 'Chances', 'Change', 'Changing', 'Charter', 'Chase', 'Check', 'CheckView', 'Checks', 'Chemical', 'Chemistry', 'Chicago', 'ChicagoCCNE', 'Chief', 'Child', 'Childhood', 'Children', 'ChoicenSoftware', 'Choose', 'Choosing', 'Chrome', 'Chronicle', 'Cisco', 'City', 'Claes', 'Class', 'Clearinghouse', 'Clearly', 'Click', 'Climate', 'Clinical', 'Clinicals', 'Cloud', 'Coalition', 'Coalitionxa', 'CocaCola', 'Code', 'Cohort', 'College', 'CollegeCollege', 'CollegeExpress', 'Colleges', 'Collegiate', 'Colmery', 'Colorado', 'Columbia', 'Combine', 'Combined', 'Commission', 'Committee', 'Communication', 'CompTIA', 'Companies', 'Company', 'Compare', 'Compared', 'Competencies', 'Competency', 'Competencybased', 'Competent', 'Complete', 'Completion', 'Comprehensive', 'Computer', 'Computers', 'Computing', 'Concerned', 'Conduct', 'Congressman', 'Connecticut', 'Connecting', 'Connell', 'Consequently', 'Considering', 'Consumer', 'Contact', 'Content', 'Continuing', 'Conversely', 'Coordination', 'Cornell', 'Corporation', 'Correlator', 'Cost', 'Council', 'CouncilBy', 'CouncilCompetencybased', 'CouncilnAt', 'CouncilnProfessional', 'CouncilnnBy', 'Councilxa', 'Counselor', 'CounselorBelow', 'CounselorDownload', 'CounselorFor', 'CounselorIf', 'CounselorStudents', 'CounselorThe', 'CounselorTo', 'CounselorWGU', 'CounselornBelow', 'CounselornDownload', 'CounselornFor', 'CounselornIf', 'CounselornPrior', 'CounselornTo', 'Counselors', 'Counselorsxa', 'Counselorxa', 'County', 'Coupled', 'Course', 'Courses', 'Coursework', 'Creating', 'Creative', 'Csuite', 'Curriculum', 'Cyber', 'Cyberattacks', 'Cybersecurity', 'DC', 'DHS', 'DNA', 'DSST', 'Dad', 'Dakota', 'Dante', 'Dash', 'Data', 'Daugaard', 'DeLashmutt', 'December', 'Decide', 'Default', 'Defense', 'Degree', 'Degrees', 'Deliberate', 'Delta', 'Demand', 'Dematic', 'Demonstrating', 'Demonstration', 'Dennis', 'Denver', 'Department', 'Departmentn', 'Departments', 'Depending', 'Depot', 'Design', 'Designation', 'Designed', 'Designee', 'Designer', 'Despite', 'Determine', 'Develop', 'Development', 'Developmentxa', 'Devices', 'Direct', 'Director', 'Discover', 'Disney', 'Distance', 'Distinction', 'Distractions', 'District', 'Disturb', 'DoE', 'Doctors', 'Dolph', 'Download', 'Dr', 'Drug', 'Due', 'ECCouncil', 'ECG', 'ED', 'EHR', 'EHRs', 'ELL', 'ELLESL', 'ELLs', 'EMRs', 'ESL', 'ESLELL', 'ESLnnThe', 'ESLteacherEDUorgAccording', 'ESLteacherEDUorgWorking', 'Earn', 'Earning', 'Earth', 'Earths', 'East', 'Eating', 'Economic', 'Ed', 'Education', 'Educational', 'EducationnnTo', 'Educationxa', 'Educator', 'Educators', 'Educatorxa', 'Effective', 'Einstein', 'Either', 'Electronic', 'Elementary', 'Eligibility', 'Elokon', 'Email', 'Employers', 'Employment', 'Empower', 'Empowering', 'EnCorps', 'Encounter', 'Endorsement', 'Energy', 'Engineering', 'Engineers', 'English', 'Englishlanguage', 'Englishlearning', 'Englishspeaking', 'Enhance', 'Enrollment', 'EnrollmentTotalMaleFemaleAsianBlackHispanicNonresidentxa', 'Enrollmentn', 'Essentially', 'Essentials', 'Ethnicity', 'Evaluating', 'Evaluators', 'Even', 'Every', 'Everyone', 'Everything', 'Exam', 'ExamBy', 'Examination', 'Excellence', 'Exceptional', 'Executive', 'Executives', 'Exemplary', 'Expand', 'Expect', 'ExperienceApplying', 'Experienced', 'Experiences', 'ExperiencesYour', 'Expert', 'Experts', 'Explore', 'Express', 'FAFSA', 'FAFSAIn', 'FAFSAThere', 'FAQNet', 'FDEOOur', 'FQHC', 'FSA', 'FY', 'Face', 'Facebook', 'Facebookxa', 'Factor', 'Faculty', 'Fahrenheit', 'Failure', 'Fall', 'Family', 'Fargoxa', 'Farm', 'Fast', 'February', 'Federal', 'Federally', 'Fee', 'Feeling', 'Fewer', 'Field', 'Figuring', 'Final', 'Finally', 'Finance', 'Financial', 'Find', 'Finding', 'Finish', 'Firefox', 'First', 'Five', 'Flexible', 'Flip', 'Florence', 'Flores', 'Florida', 'FloridanFlorida', 'Focus', 'Forbes', 'Force', 'Foreign', 'Forever', 'Fortunately', 'Fortune', 'Fortyeight', 'Foundation', 'Foundations', 'Foundationxa', 'Francisco', 'Frank', 'Free', 'Frequent', 'Friendly', 'Frietzsche', 'Fritz', 'Fulfilling', 'Full', 'Fulltime', 'Furthermore', 'Future', 'G', 'GAAP', 'GI', 'GMAT', 'GPA', 'GRE', 'Gates', 'Generally', 'Generation', 'Generations', 'Geographic', 'Geologists', 'Georgia', 'Geosciences', 'Geoscientists', 'German', 'Germanys', 'Get', 'Gifted', 'Gig', 'Girl', 'Girls', 'Giving', 'Glassdoorxa', 'Global', 'Gonzaga', 'Good', 'Google', 'Government', 'Governor', 'Governors', 'Grabbing', 'Grades', 'Graduate', 'Graduated', 'Graduates', 'GraduatesWhichever', 'Graduation', 'Grand', 'Grant', 'Grantxa', 'Great', 'Greater', 'GriffithJoyner', 'Group', 'Growing', 'Guam', 'Guard', 'Guardsmen', 'Guide', 'GuideEndorsement', 'GuideProgram', 'GuideRequest', 'GuideStatespecific', 'GuideThe', 'GuideTo', 'Guidebook', 'GuidenProgram', 'GuidenRequest', 'GuidenTo', 'GuidennProgram', 'GuidennRequest', 'Guidexa', 'HEA', 'HEOA', 'HIMSS', 'HIPAA', 'HP', 'HR', 'HRCI', 'HRSA', 'Half', 'Hampshire', 'Hands', 'Harnessing', 'Harris', 'Harry', 'Harvard', 'Hawaii', 'Heads', 'Health', 'Healthcare', 'Healthxa', 'Healthy', 'Heart', 'Help', 'Heres', 'High', 'Higher', 'Highly', 'Hightech', 'HispanicLatinoxa', 'Hogwarts', 'Hold', 'Holding', 'Hollywood', 'Home', 'Homeland', 'Honda', 'HondannSo', 'Hone', 'Hospital', 'Hospitals', 'Host', 'Hours', 'HousenCollege', 'Howard', 'However', 'Hows', 'Hubble', 'Human', 'ICU', 'ID', 'IEPs', 'II', 'IO', 'IPEDS', 'IRAs', 'IRS', 'ISC', 'ITEarning', 'ITIL', 'ITIf', 'ITM', 'ITOur', 'ITThe', 'ITnEarning', 'ITnThe', 'ITrelated', 'ITxa', 'IV', 'Idaho', 'Identity', 'Illinois', 'Im', 'Imagine', 'Increase', 'Increasingly', 'Indepth', 'Indian', 'Indians', 'Individual', 'Individuals', 'Industry', 'Informatics', 'Information', 'Informations', 'Informationxa', 'Informed', 'Initiative', 'Innovation', 'Innovative', 'Instagram', 'Instead', 'Institute', 'Institutions', 'Instruction', 'Instructional', 'Instructions', 'Instructionxa', 'Instructors', 'Insurance', 'Intake', 'Integrated', 'Intel', 'InterProfessional', 'InterRegional', 'Interest', 'Interestingly', 'Internal', 'International', 'Internet', 'Internetconnected', 'Interview', 'Intiative', 'Investment', 'IoT', 'Iowa', 'IslandsInternational', 'Itll', 'JPMorgan', 'January', 'Java', 'Javascript', 'Jeff', 'JetBlue', 'Joan', 'Job', 'Jobs', 'John', 'Johnson', 'Jose', 'Journal', 'Judge', 'July', 'June', 'K', 'Kansas', 'Karl', 'Keep', 'Keeping', 'Kentucky', 'Key', 'Kin', 'Know', 'Knowledge', 'Kudrow', 'Kurt', 'LA', 'Lab', 'Labor', 'Lake', 'Language', 'Languages', 'Large', 'Leaders', 'Leadership', 'Leadershipxa', 'League', 'Learn', 'Learning', 'LearningEnglish', 'Leave', 'Left', 'Let', 'Licensure', 'Licensurexa', 'Lighthouse', 'Like', 'Limited', 'Lines', 'LinkedIn', 'Linux', 'Lisa', 'ListAccountants', 'ListPositions', 'Listening', 'Loan', 'Loans', 'LoansYour', 'Loanxa', 'Log', 'Login', 'Look', 'Los', 'Low', 'Luckily', 'Lundgren', 'MAT', 'MAcc', 'MBA', 'MBAs', 'MBAxa', 'MCSA', 'MEd', 'MHL', 'MI', 'MIS', 'MPN', 'MS', 'MSCSA', 'MSML', 'MSMLxa', 'MSN', 'MSNBC', 'MSNLM', 'MSNxa', 'MTA', 'MTNote', 'Magazine', 'MagazineLearn', 'Magnet', 'Make', 'Making', 'Management', 'ManagementData', 'ManagementHealthcare', 'ManagementnDiscover', 'ManagementnThe', 'Managementxa', 'Managers', 'Managing', 'Manufacturing', 'Many', 'March', 'Margaret', 'Marketing', 'Massachusetts', 'Massive', 'Master', 'Masters', 'Masterxa', 'Math', 'Mathematics', 'Maximize', 'May', 'Maybe', 'McAfee', 'Meanwhile', 'Media', 'Medical', 'Melanie', 'Melinda', 'Mental', 'Mentor', 'Mentors', 'Merkel', 'Metro', 'Mexico', 'Miami', 'MiamiDade', 'Michigan', 'Microbiology', 'Microsoft', 'Middle', 'Midwest', 'Mike', 'Mild', 'Military', 'MilitaryFriendly', 'Milken', 'Millennium', 'Millions', 'Mindfulness', 'MinnesotaThis', 'Mississippi', 'Mitchell', 'Mobile', 'Mode', 'Model', 'Moderate', 'Molecules', 'Mom', 'Montgomery', 'Morexa', 'Move', 'Much', 'Multiple', 'MyWGU', 'NCES', 'NCHA', 'NCHABeing', 'NCLB', 'NCLEX', 'NCLEXRN', 'NCTEThe', 'NCTMnBy', 'NCTMxa', 'NCTQ', 'NELP', 'NICE', 'NLN', 'NOTE', 'NPs', 'NSA', 'NSAIf', 'NSF', 'NSSE', 'NSTABy', 'NSTANote', 'NSTAnBy', 'NSTAxa', 'NV', 'NW', 'NWCCU', 'Nanodegree', 'Nanodegreexa', 'Nation', 'National', 'Nativexa', 'Navigatorxa', 'Nearly', 'Need', 'Needs', 'Nestle', 'Net', 'Network', 'Nevada', 'Never', 'New', 'News', 'Newtons', 'Night', 'Nights', 'Nobel', 'NonHispanicxa', 'NonProfit', 'North', 'Northeast', 'Northwest', 'Note', 'November', 'Number', 'Nurse', 'Nurses', 'Nursing', 'Nursingxa', 'OCP', 'OM', 'ORA', 'Objectives', 'Obtaining', 'Occasional', 'October', 'Office', 'Officer', 'OfficerIT', 'OfficerIn', 'Official', 'Officially', 'Often', 'Oh', 'Oklahoma', 'Olympic', 'Omega', 'One', 'Oneonone', 'Online', 'Operations', 'Opportunities', 'Opportunity', 'Option', 'Oracle', 'Oregon', 'Organization', 'Organizations', 'Others', 'Otherxa', 'Outstanding', 'Overall', 'Overcoming', 'Owls', 'Owning', 'P', 'PDF', 'PDFWGU', 'PDFxa', 'PHR', 'PLEASE', 'PLUS', 'PMI', 'PSELnStates', 'PSI', 'Pacific', 'Page', 'Panel', 'Partially', 'Patience', 'Patients', 'Pay', 'Pedagogy', 'Pell', 'Pellxa', 'People', 'Pepsico', 'Percent', 'Perhaps', 'Personal', 'Petroleum', 'Pfizer', 'Pharmacology', 'Philadelphia', 'PhoenixnCapella', 'PhoenixnGrand', 'PhoenixnSouthern', 'Physics', 'Physicsxa', 'Pick', 'Pierce', 'Placement', 'Plan', 'Planning', 'Plans', 'Please', 'Plus', 'Poetry', 'Policy', 'Polish', 'Poll', 'Portable', 'Portal', 'PortalAfter', 'Positions', 'PostBaccalaureate', 'Postsecondary', 'Potter', 'Practically', 'Practice', 'Practicum', 'Practitioner', 'Praxis', 'PreK', 'Preclinical', 'Prelicensure', 'Prep', 'Preparation', 'Prepare', 'Prepared', 'Prescription', 'Price', 'PricewaterhouseCoopers', 'Principles', 'Private', 'Problem', 'Professional', 'Professionals', 'Professions', 'ProfessionsCollege', 'Program', 'ProgramnnWGU', 'Programs', 'Project', 'Prove', 'Providing', 'Psychological', 'Public', 'Puerto', 'Purple', 'Pursue', 'Pursuing', 'Put', 'Qualified', 'Quality', 'REAL', 'RHIA', 'RHIT', 'RN', 'RNBSN', 'RNMSN', 'RNMany', 'RNThe', 'RNnThe', 'RNs', 'RNtoBSN', 'RNtoMSN', 'ROI', 'Race', 'Randall', 'Rapid', 'Rapids', 'Rashaan', 'Rates', 'Rather', 'Read', 'Readiness', 'Readmission', 'Readmitting', 'Ready', 'Realtime', 'Received', 'Recognition', 'Recognize', 'Record', 'Records', 'Recovery', 'Recruiters', 'Reduce', 'Regardless', 'Registered', 'Registering', 'Registrar', 'Reinvestment', 'Relations', 'Relationship', 'Remember', 'Remove', 'Report', 'Reportxa', 'Requesting', 'Research', 'Reserves', 'Reservists', 'Reshma', 'Resolution', 'Resource', 'Resources', 'Respondents', 'Responsible', 'Resume', 'Retention', 'Retiring', 'Review', 'Reviewxa', 'Rhonda', 'Rico', 'Right', 'Rising', 'Robert', 'Role', 'SAS', 'SAT', 'SHRM', 'SIM', 'SSCP', 'STEM', 'STEMrelated', 'Sage', 'Salaries', 'Salary', 'San', 'Satisfaction', 'Saujani', 'Scholarship', 'School', 'Schools', 'Schoolxa', 'Science', 'Sciencexa', 'Scientists', 'Scorecard', 'ScorecardTo', 'Scout', 'Seattle', 'Second', 'Secondary', 'Secretary', 'Security', 'See', 'Sept', 'September', 'Service', 'Services', 'Set', 'Setting', 'Several', 'Shielded', 'Shifting', 'Shortage', 'Show', 'Shut', 'Significant', 'Silicon', 'Similar', 'Similarly', 'Simmons', 'Simply', 'SimplyHiredcom', 'Since', 'Skilled', 'Skills', 'Slightly', 'Sloan', 'Smart', 'Snapshot', 'Social', 'Society', 'SocietyIf', 'SocietynnIf', 'Societyxa', 'Software', 'Solheims', 'Solution', 'Sound', 'Sounds', 'Source', 'South', 'Southern', 'Speakers', 'Special', 'Specialist', 'Specialists', 'Specifically', 'St', 'Stafford', 'Standards', 'Starbucks', 'Start', 'State', 'States', 'StatesThe', 'StatesWGU', 'StatesnBack', 'StatesnnThe', 'Statess', 'Statesxa', 'Statista', 'Statistically', 'Statistics', 'StatisticsA', 'StatisticsRegistered', 'StatisticsSo', 'Statisticsxa', 'StayFocusd', 'Step', 'Steth', 'Still', 'StopPrincipals', 'Stragus', 'Street', 'Stress', 'Student', 'StudentMaleFemaleTotalCohort', 'Studentobsessed', 'Students', 'Studies', 'Study', 'Subject', 'Subsequent', 'Subsidized', 'Success', 'Successful', 'Suite', 'Sunshine', 'Superintendent', 'Supervision', 'Supervisor', 'Support', 'Sure', 'SurveyPostBaccEndorsementMastersLawMedicalDoctorateTotal', 'Suzanne', 'SysOps', 'System', 'Systems', 'TEAS', 'TESOL', 'TV', 'Take', 'Taking', 'Task', 'Teach', 'Teacher', 'TeacherPrep', 'Teachers', 'Teaching', 'Teachingxa', 'Tech', 'TechTerms', 'Technician', 'Technology', 'TechnologyCollege', 'Templatesxa', 'Terrence', 'Testing', 'Texas', 'Thank', 'Thanks', 'Thatcher', 'Thats', 'Therefore', 'Theres', 'Thexa', 'Theyll', 'Theyre', 'Things', 'Think', 'Thor', 'Though', 'Threeplus', 'Throughout', 'Throw', 'Thus', 'Tiffany', 'Time', 'Times', 'TingleyYou', 'Tkachyk', 'Today', 'Todays', 'Top', 'TotalMaleFemaleAsiannBlackHispanicNonresidentxa', 'Totalxa', 'Toyota', 'Traditional', 'Transcripts', 'Transfer', 'Transferable', 'Transformation', 'Travel', 'Treasury', 'Treating', 'Trish', 'Try', 'Trying', 'Tuition', 'Tune', 'Turn', 'Two', 'Typically', 'UPS', 'US', 'USDLA', 'USDLAWGUxa', 'UT', 'Udacity', 'Undergraduate', 'Understanding', 'Unfortunately', 'Uniforms', 'United', 'Unites', 'Units', 'Universities', 'University', 'UniversityManaging', 'UniversityOur', 'UniversitynATTN', 'UniversitynAttn', 'UniversitynCollege', 'UniversitynDevry', 'UniversitynGrand', 'UniversitynPurdue', 'UniversitynSouthern', 'UniversitynStudent', 'UniversitynUniversity', 'UniversitynWalden', 'Universityxa', 'Unknownxa', 'Unless', 'Unlike', 'Unsubsidized', 'Upon', 'Upper', 'UpperDivision', 'Use', 'Using', 'Usually', 'Utah', 'Utilize', 'Utilizing', 'VA', 'VP', 'Valley', 'Value', 'Variability', 'Veterans', 'View', 'Virgin', 'VirginiannSalaries', 'Virtually', 'Visa', 'Vocabulary', 'Volunteer', 'Vonnegut', 'W', 'WGU', 'WGUAll', 'WGUAn', 'WGUCollege', 'WGUDepending', 'WGUFor', 'WGUIndependent', 'WGUOur', 'WGURemember', 'WGUWGU', 'WGUWGUs', 'WGUWe', 'WGUn', 'WGUnFind', 'WGUnIf', 'WGUnOur', 'WGUnRemember', 'WGUnTo', 'WGUpartnered', 'WGUs', 'WGUsxa', 'WGUxa', 'WWE', 'Walking', 'Walnuts', 'Walt', 'Washington', 'Watch', 'Wearable', 'Web', 'Week', 'Well', 'Wells', 'Wendy', 'Wendys', 'West', 'Western', 'Weve', 'Whatever', 'Whats', 'Whether', 'Whichever', 'White', 'Whole', 'Whos', 'Wisdom', 'Wise', 'Without', 'Wood', 'Work', 'Workers', 'Working', 'World', 'Would', 'X', 'Year', 'York', 'Youll', 'Young', 'Younger', 'Youre', 'Yourxa', 'Youve', 'Z', 'aBesides', 'aHighly', 'aPositions', 'abide', 'abilities', 'abilitiesWhen', 'abilitiesnThe', 'abilitiesnTo', 'ability', 'abilityThis', 'able', 'ableWGUs', 'ableWhether', 'ablexa', 'abound', 'abroad', 'abrupt', 'absence', 'absolutely', 'absorb', 'absorption', 'abundant', 'academiaxa', 'academic', 'academically', 'academics', 'accelerate', 'accelerated', 'accept', 'acceptable', 'acceptablen', 'accepted', 'accepting', 'accepts', 'access', 'accessed', 'accessibility', 'accessible', 'accessing', 'acclimate', 'acclimated', 'accommodate', 'accompanied', 'accomplish', 'accomplished', 'accomplishment', 'accordance', 'according', 'account', 'accountability', 'accountable', 'accountant', 'accountants', 'accounting', 'accounts', 'accountsA', 'accountsGenerally', 'accountsnThe', 'accreditation', 'accreditationBreaking', 'accreditationIn', 'accreditationReady', 'accreditationYou', 'accreditations', 'accreditationxa', 'accredited', 'accrediting', 'accreditor', 'accredits', 'accumulate', 'accumulated', 'accuracy', 'accurate', 'achievable', 'achieve', 'achieved', 'achievement', 'achievements', 'achieving', 'acid', 'acknowledges', 'acquire', 'acquired', 'acquiredxa', 'acquiring', 'acquisition', 'across', 'action', 'actionable', 'actions', 'actionsIt', 'actionsnnIt', 'active', 'activeduty', 'actively', 'activities', 'activitiesIn', 'activity', 'actor', 'actorsAs', 'actual', 'actually', 'acumen', 'acute', 'acuteness', 'adapt', 'adaptability', 'adaptable', 'adapted', 'adapting', 'adapts', 'add', 'added', 'adding', 'addition', 'additional', 'additionally', 'addon', 'address', 'addressed', 'addresses', 'addressing', 'adds', 'adept', 'adequate', 'adequately', 'adjust', 'adjusting', 'adjustment', 'adjustments', 'administer', 'administered', 'administering', 'administration', 'administrationEarning', 'administrationSpecific', 'administrationmanagement', 'administrationnBy', 'administrationxa', 'administrative', 'administrator', 'administratornThe', 'administrators', 'administratorsThanks', 'administratorsThe', 'administratorsnThe', 'administratorsnnIn', 'administratorsnnThanks', 'administratorxa', 'admission', 'admissionMany', 'admissionRequired', 'admissions', 'admissionswguedu', 'admit', 'admitsxa', 'admittance', 'admitted', 'adolescence', 'adolescent', 'adolescentsBy', 'adopted', 'adoption', 'adult', 'adultnAt', 'adultnWhether', 'adults', 'adultxa', 'advance', 'advanced', 'advancement', 'advancementCompanies', 'advancementOur', 'advancementTechnology', 'advancementThe', 'advancementWGU', 'advancementnnThis', 'advancements', 'advancementxa', 'advances', 'advancing', 'advantage', 'advantageous', 'advantages', 'advantagesxa', 'adventure', 'adventures', 'adversaries', 'advertising', 'advice', 'adviceTelehealth', 'advise', 'advised', 'advises', 'advisor', 'advisors', 'affect', 'affected', 'affects', 'affinity', 'affirmed', 'afford', 'affordability', 'affordable', 'affordableMany', 'afraid', 'age', 'agencies', 'agenciesConfident', 'agenciesSo', 'agenciesThis', 'agency', 'agencyAll', 'agencybased', 'agenda', 'agennTeachers', 'agent', 'agerelated', 'ages', 'aggressive', 'agility', 'aging', 'ago', 'agree', 'agreement', 'agreements', 'ahead', 'aheadCODiE', 'aid', 'aidThe', 'aids', 'aidxa', 'ailment', 'ailments', 'aiming', 'aircraft', 'alarm', 'alarming', 'alarms', 'alertness', 'alerts', 'algebra', 'algebraic', 'algorithms', 'algorithmsxa', 'alias', 'align', 'aligned', 'aligns', 'alike', 'alikexa', 'allFor', 'allWGU', 'alldigital', 'allergies', 'allied', 'allies', 'allnighters', 'allonline', 'allow', 'allowances', 'allowed', 'allowing', 'allows', 'alluring', 'alma', 'almost', 'alone', 'alonenxa', 'along', 'alongside', 'already', 'alreadycertified', 'alreadylicensed', 'alreadypracticing', 'also', 'alsoxa', 'alternative', 'alternatives', 'although', 'alumni', 'alumniFreedomI', 'always', 'amazing', 'ambitious', 'amended', 'amid', 'among', 'amount', 'amounts', 'amplified', 'analtyics', 'analysis', 'analyst', 'analysts', 'analytic', 'analytical', 'analytics', 'analyticsBy', 'analyticsData', 'analyticsThe', 'analyze', 'analyzing', 'anatomy', 'andor', 'andxa', 'angel', 'animal', 'announced', 'annoying', 'annual', 'annually', 'another', 'answer', 'answered', 'answeredn', 'answering', 'answers', 'anticipate', 'anticipated', 'anticipates', 'anticipating', 'anticipatory', 'antiinflammatory', 'anxa', 'anxiety', 'anxietyinducingYour', 'anxious', 'anymore', 'anyone', 'anything', 'anytime', 'anywhere', 'apart', 'app', 'appeal', 'appealing', 'appeals', 'appear', 'appearances', 'appearancesxa', 'appeared', 'appears', 'appetite', 'applaud', 'apples', 'appliances', 'applicability', 'applicable', 'applicant', 'applicants', 'applicantsAdditionally', 'application', 'applicationReady', 'applications', 'applicationsPrivate', 'applicationsThis', 'applicationsYou', 'applicationsxa', 'applied', 'apply', 'applyTo', 'applyWe', 'applying', 'applynTo', 'appointmentAs', 'appreciate', 'appreciating', 'appreciation', 'approach', 'approaches', 'appropriate', 'appropriately', 'appropriations', 'approval', 'approved', 'approximately', 'apps', 'aptitude', 'architecture', 'architectxa', 'arduous', 'areAccording', 'areAfter', 'areAre', 'areAs', 'areConstant', 'areEducational', 'areIf', 'areIn', 'areInstructional', 'areMiddle', 'areMost', 'areOnce', 'areTeachers', 'areTeaching', 'areThe', 'areTheres', 'areWhether', 'areWhy', 'area', 'areaA', 'areaBe', 'areaThe', 'areannFind', 'areas', 'areasBeyond', 'areasIn', 'areasInformation', 'areasnnIn', 'areasxa', 'arenas', 'arent', 'arexa', 'arguing', 'argument', 'argumentsGenerally', 'arise', 'arises', 'arm', 'armchair', 'armed', 'arming', 'around', 'aroundOver', 'arrangement', 'arrangements', 'array', 'arrive', 'arsenal', 'art', 'article', 'articleAll', 'articleDisruptive', 'articleRead', 'articleThe', 'articles', 'artificial', 'arts', 'asBecause', 'asCompletion', 'asLearn', 'asProgram', 'ask', 'askMost', 'askWhile', 'asked', 'asking', 'asnHealth', 'asnIf', 'asnLearn', 'asnPositions', 'aspect', 'aspects', 'aspirations', 'aspirationsBachelors', 'aspirationsIf', 'aspirationsTodays', 'aspirationsWGU', 'aspire', 'aspires', 'aspiring', 'assemble', 'assertive', 'assess', 'assessed', 'assesses', 'assessing', 'assessment', 'assessmentAs', 'assessmentIf', 'assessmentYou', 'assessmentYour', 'assessmentnAt', 'assessmentnBerries', 'assessmentnIf', 'assessmentnYou', 'assessments', 'assessmentsAt', 'assessmentsDemonstrating', 'assessmentsnYou', 'assessmentsnnEvery', 'assessmentsxa', 'assessmentxa', 'asset', 'assets', 'assigned', 'assignment', 'assignments', 'assignmentsIf', 'assimilate', 'assist', 'assistance', 'assistant', 'assisting', 'associate', 'associated', 'associatelevel', 'association', 'associations', 'assume', 'assuming', 'assurance', 'assured', 'assures', 'assuring', 'astronomy', 'athletic', 'atmosphere', 'attack', 'attackers', 'attacks', 'attaining', 'attainment', 'attend', 'attendance', 'attendancen', 'attended', 'attending', 'attention', 'attitude', 'attract', 'attracted', 'attracting', 'attractive', 'attracts', 'atwill', 'atypical', 'audience', 'auditing', 'auditors', 'auditorsTo', 'authentic', 'authentication', 'authorities', 'autism', 'automated', 'automatic', 'autonomous', 'availability', 'available', 'availableClinicals', 'availableInterested', 'availableThe', 'availablexa', 'avenues', 'average', 'averageA', 'averageHow', 'averageWGU', 'averageWhere', 'averaged', 'averages', 'averagexa', 'avid', 'avocado', 'avoid', 'avoids', 'awaiting', 'awaken', 'award', 'awarded', 'awarding', 'aware', 'away', 'awkward', 'axa', 'baby', 'babysittingMany', 'babysittingnA', 'babysittingnMany', 'babysittingnWGU', 'babysittingxa', 'baccalaureate', 'bachelor', 'bachelors', 'bachelorslevel', 'back', 'backbone', 'backed', 'background', 'backgrounds', 'backgroundsWhat', 'backtoschool', 'bad', 'bag', 'balance', 'balanced', 'balancing', 'ballooned', 'bank', 'banking', 'banks', 'bar', 'barcoding', 'barrier', 'barriers', 'bars', 'base', 'based', 'bases', 'basic', 'basicHere', 'basics', 'basis', 'basisxa', 'bat', 'beIf', 'beManaging', 'beOur', 'beaches', 'beakers', 'bear', 'beat', 'became', 'become', 'becomes', 'becomesTuition', 'becomesnA', 'becomesnEach', 'becoming', 'bed', 'beds', 'bedside', 'beets', 'beforeTo', 'beforehand', 'befriend', 'began', 'begin', 'beginner', 'beginning', 'beginnings', 'beginningsxa', 'begins', 'begun', 'behave', 'behavior', 'behavioral', 'behaviorally', 'behind', 'beings', 'beliefs', 'believe', 'believed', 'believes', 'belong', 'belowBelow', 'belowEffective', 'belowThe', 'belown', 'belt', 'benchmarks', 'beneath', 'beneficial', 'benefit', 'benefiting', 'benefits', 'benefitsnWGU', 'bennThe', 'berries', 'besides', 'best', 'bestpaid', 'bestxa', 'better', 'betternThe', 'betweennHow', 'bexa', 'beyond', 'beyondIf', 'big', 'bigdata', 'bigger', 'biggest', 'bigtime', 'bill', 'billable', 'billed', 'billion', 'billionnWGU', 'biochemical', 'biochemistry', 'biological', 'biologists', 'biology', 'biologySchool', 'biologyThe', 'biologyThere', 'biologynThe', 'biomedical', 'biosphere', 'birds', 'bit', 'biweekly', 'blankets', 'blend', 'blind', 'block', 'blockchain', 'blockers', 'blocking', 'blood', 'blue', 'blueberries', 'blunders', 'blush', 'board', 'boardMiddle', 'boast', 'boasting', 'bobble', 'bodies', 'body', 'bolster', 'bonding', 'bonus', 'bonuses', 'book', 'bookkeeping', 'books', 'boomer', 'booming', 'boomingGartner', 'boost', 'boostYou', 'boosters', 'boosting', 'boring', 'born', 'borrow', 'borrowed', 'borrower', 'borrowers', 'borrowing', 'boss', 'bothxa', 'bottom', 'bound', 'boundaries', 'bountiful', 'brain', 'brainCollege', 'brainboosting', 'brainpower', 'brains', 'branching', 'brand', 'brandnew', 'bravery', 'breached', 'breaches', 'breadth', 'breadwinner', 'break', 'breakAs', 'breakMany', 'breakMost', 'breakReady', 'breakdowns', 'breakfast', 'breaknMost', 'breaknReady', 'breaknnELLESL', 'breaks', 'breakxa', 'breath', 'breathing', 'breeding', 'breeds', 'brickandmortar', 'bridge', 'brief', 'bright', 'brightAs', 'brightWGU', 'brighter', 'brightest', 'brimming', 'bring', 'brings', 'broad', 'broaden', 'broadening', 'broader', 'broadly', 'broccoli', 'brokerage', 'bronchitisRegardless', 'brood', 'brought', 'browse', 'browser', 'browsers', 'browsing', 'buck', 'bucking', 'budget', 'budgeting', 'budgetn', 'budgetnPrograms', 'budgets', 'bugs', 'build', 'building', 'builds', 'built', 'builtin', 'bump', 'bumped', 'bumpsThis', 'bumpxa', 'burden', 'burner', 'burnt', 'business', 'businessA', 'businessLet', 'businessThere', 'businessaltering', 'businesscritical', 'businesses', 'businessesA', 'businessesxa', 'businessfacing', 'businesslevel', 'businessrelated', 'businesss', 'businesssavvy', 'businessxa', 'busy', 'button', 'buzz', 'calculate', 'calculated', 'calculation', 'calculations', 'calculator', 'calculus', 'calculusYou', 'calendar', 'call', 'called', 'calling', 'callingxa', 'calls', 'calmer', 'calories', 'came', 'cameras', 'camp', 'campers', 'camps', 'campus', 'canSell', 'cancer', 'candidate', 'candidates', 'candidatesn', 'candles', 'candy', 'cannot', 'cant', 'capabilities', 'capable', 'capacity', 'capeclad', 'caps', 'capstone', 'capstoneHowever', 'capstones', 'captivate', 'car', 'carbohydrate', 'carbohydrates', 'carbon', 'card', 'care', 'careIf', 'careOur', 'cared', 'career', 'careerA', 'careerAs', 'careerBack', 'careerBy', 'careerDiscover', 'careerDriven', 'careerEmployers', 'careerEmpowering', 'careerIf', 'careerInformation', 'careerIt', 'careerLearn', 'careerMany', 'careerOne', 'careerOur', 'careerPositions', 'careerReady', 'careerTake', 'careerThe', 'careerThere', 'careerThrough', 'careerTodays', 'careerWhat', 'careeraligned', 'careerchangers', 'careerfocused', 'careernCurrent', 'careernDiscover', 'careernHeres', 'careernReady', 'careernThe', 'careernnMathematics', 'careerready', 'careerrelevant', 'careers', 'careersIf', 'careersThe', 'careersWGU', 'careersWhether', 'careersWhy', 'careersnThe', 'careersnThere', 'careersnToday', 'careersnWGU', 'careersnWith', 'careersnnBecome', 'careersnnWhat', 'careerswitch', 'careersxa', 'careerxa', 'careful', 'carefully', 'carefullyxa', 'caring', 'carry', 'cars', 'cases', 'cashes', 'cat', 'catalog', 'catalyst', 'catch', 'catching', 'catchy', 'categories', 'cause', 'caused', 'causes', 'causing', 'ceases', 'celebrated', 'cell', 'cellular', 'center', 'centers', 'central', 'centralized', 'century', 'cerealnDark', 'cert', 'certain', 'certainly', 'certificate', 'certificateNo', 'certificates', 'certificateseeking', 'certification', 'certificationnWGU', 'certificationnWGUs', 'certifications', 'certificationsAccounting', 'certificationsAs', 'certificationsn', 'certificationsnGain', 'certificationsnxa', 'certified', 'certify', 'certs', 'chain', 'chair', 'challenge', 'challengeCyberattacks', 'challengeToo', 'challenged', 'challenges', 'challengesThe', 'challengesnnIf', 'challenging', 'chance', 'chances', 'change', 'changeA', 'changeFrom', 'changeOur', 'changed', 'changennYou', 'changers', 'changes', 'changesThere', 'changing', 'channels', 'chapter', 'characteristics', 'characters', 'charge', 'chargeMany', 'charged', 'charges', 'chargexa', 'charging', 'chart', 'charter', 'charting', 'charts', 'chat', 'cheating', 'check', 'checkPassing', 'checkbook', 'checked', 'checker', 'checking', 'checklist', 'checklistWGU', 'checks', 'checkxa', 'chemistry', 'chemistryA', 'chemists', 'chest', 'chief', 'child', 'childhood', 'children', 'chip', 'chitchat', 'chocolate', 'choice', 'choiceThe', 'choicen', 'choicenOnline', 'choicennOf', 'cholesterol', 'choose', 'choosenIf', 'choosenPositions', 'choosing', 'chore', 'chores', 'chose', 'chosen', 'chronic', 'circulation', 'circumstanceThough', 'circumstances', 'cite', 'cites', 'cities', 'citiesnCareers', 'citiesnComputer', 'citiesregions', 'citizens', 'city', 'claim', 'claimed', 'clarity', 'class', 'classReady', 'classSo', 'classThe', 'classThere', 'classes', 'classesAs', 'classesnnIn', 'classified', 'classmates', 'classnWith', 'classroom', 'classroomAccording', 'classroomIf', 'classroomOklahoma', 'classroomThe', 'classroomThere', 'classroomTheres', 'classroomWill', 'classroomnThis', 'classroomnnIf', 'classrooms', 'classroomsBecoming', 'classroomsEvery', 'classroomsnnBecoming', 'classroomxa', 'claustrophobic', 'clean', 'cleaning', 'clear', 'clearance', 'clearly', 'cleverly', 'clients', 'climate', 'climb', 'clinic', 'clinical', 'clinicals', 'clinicians', 'clinics', 'clip', 'clock', 'close', 'closely', 'closer', 'cloud', 'clouds', 'clout', 'club', 'clutter', 'cluttered', 'clutters', 'coaches', 'coaching', 'coast', 'coaster', 'coat', 'coatNote', 'coats', 'code', 'codenIf', 'codenThe', 'coding', 'codingnBy', 'coffee', 'cognition', 'cognitive', 'cohort', 'cohortbased', 'cohorts', 'cohortsxa', 'coincidentally', 'cold', 'collaborate', 'collaboration', 'collaborative', 'collaboratively', 'collar', 'colleagues', 'collection', 'college', 'collegeAlways', 'collegeTeachers', 'collegeWGU', 'collegeYou', 'collegelevel', 'colleges', 'collegesxa', 'collegial', 'collegiate', 'collegiatelevel', 'cologne', 'color', 'colossal', 'combat', 'combination', 'combine', 'combined', 'combines', 'combining', 'come', 'comeYou', 'comes', 'comfort', 'comfortable', 'coming', 'command', 'commencements', 'commerce', 'commercial', 'commissioned', 'commissions', 'commissionsLearn', 'commit', 'commitment', 'commitments', 'commitmentsAs', 'commitmentsSchools', 'committed', 'committee', 'committees', 'commodity', 'common', 'commonly', 'communicate', 'communicatenBecause', 'communicating', 'communication', 'communications', 'communities', 'communitiesnThe', 'community', 'communityIve', 'communityOn', 'communitynNursing', 'communitynReady', 'commuting', 'companies', 'company', 'companyThe', 'companyowned', 'companypaid', 'companys', 'comparability', 'comparable', 'compare', 'compared', 'compares', 'comparesEarning', 'comparesMany', 'comparesThe', 'comparesnMany', 'comparesnThe', 'comparesnnThe', 'comparesxa', 'comparison', 'compassion', 'compassionate', 'compatible', 'compensated', 'compensation', 'compete', 'competence', 'competencies', 'competenciesWGU', 'competency', 'competencyExperiencednOur', 'competencybased', 'competencybasedxa', 'competent', 'competing', 'competition', 'competitionxa', 'competitive', 'competitively', 'competitiveness', 'competitor', 'competitors', 'compiled', 'complementary', 'complete', 'completed', 'completedxa', 'completely', 'completers', 'completes', 'completexa', 'completing', 'completion', 'complex', 'complexities', 'complexity', 'compliance', 'complicated', 'comply', 'complying', 'component', 'components', 'composed', 'composition', 'compositionnnBy', 'comprehend', 'comprehensive', 'comprises', 'comprising', 'compromising', 'compulsive', 'computation', 'computational', 'computer', 'computerbased', 'computerrelated', 'computers', 'computing', 'computingIf', 'concentrate', 'concentration', 'concept', 'concepts', 'conceptual', 'concern', 'concerned', 'concerns', 'concerts', 'concrete', 'concurrently', 'condition', 'conditions', 'conditionsClick', 'conducive', 'conduct', 'conducted', 'conducting', 'conduits', 'conferences', 'confidence', 'confident', 'confidentiality', 'confidently', 'configuration', 'configure', 'confirm', 'confirmation', 'conflict', 'conform', 'confronted', 'confused', 'confusing', 'confusion', 'conjunction', 'connect', 'connected', 'connecting', 'connection', 'connections', 'connectionsData', 'connectionsDepending', 'connectionsIn', 'connectionsThe', 'connects', 'conquered', 'cons', 'consecutive', 'consensus', 'conservation', 'conserves', 'consider', 'considerFor', 'considerYour', 'considerable', 'consideration', 'considerationWGU', 'considered', 'considering', 'considers', 'consist', 'consistent', 'consistently', 'consisting', 'consists', 'consolidate', 'constant', 'constantly', 'constituencies', 'constitute', 'constraints', 'construction', 'consult', 'consultant', 'consultantNote', 'consultants', 'consulting', 'consume', 'consumer', 'consumers', 'contact', 'contacted', 'contacting', 'contagious', 'contemporary', 'content', 'contentThe', 'continually', 'continue', 'continued', 'continues', 'continuing', 'continuityxa', 'continuous', 'contract', 'contractor', 'contractors', 'contracts', 'contrast', 'contribute', 'contributed', 'contribution', 'contributions', 'contributionsnWGU', 'contributor', 'contributors', 'control', 'controlled', 'controller', 'convenience', 'convenient', 'convention', 'conversation', 'conversations', 'converse', 'convert', 'cooked', 'cookies', 'cool', 'cooling', 'coordinate', 'coordinated', 'coordinating', 'coordination', 'coordinator', 'coordinators', 'cope', 'copies', 'coping', 'copy', 'core', 'corner', 'cornerstone', 'corporate', 'corporation', 'corporations', 'corporationsPositions', 'corporationsThere', 'corrective', 'correctly', 'correlation', 'corresponding', 'cost', 'costLow', 'costThe', 'costWGUs', 'costeffective', 'costing', 'costly', 'costnCredentialed', 'costnEarn', 'costnLow', 'costnThe', 'costofliving', 'costs', 'costsAfter', 'costsAt', 'costsProgram', 'costxa', 'couch', 'could', 'couldnt', 'council', 'councils', 'councilsxa', 'counseling', 'counselor', 'counselors', 'count', 'counted', 'counter', 'countermeasures', 'counterparts', 'counting', 'countless', 'country', 'countryAccording', 'countryClassroom', 'countryGreat', 'countryLocation', 'countryThere', 'countrys', 'counts', 'couple', 'coupled', 'courage', 'course', 'courseLearn', 'courses', 'coursesA', 'coursesGiven', 'coursesWGU', 'coursesxa', 'courseware', 'coursewarennHealthcare', 'coursework', 'courseworkA', 'courseworknIf', 'courseworknMany', 'courseworkxa', 'coursexa', 'court', 'cover', 'coverage', 'covered', 'covering', 'covernnTypical', 'covers', 'coworkers', 'crack', 'cramped', 'cramping', 'create', 'created', 'creates', 'creating', 'creation', 'creative', 'creatively', 'creativity', 'creator', 'creature', 'credential', 'credentialed', 'credentialing', 'credentials', 'credentialsClearly', 'credentialsFortunately', 'credentialsWGU', 'credentialsWith', 'credibility', 'credible', 'credibleFor', 'credit', 'credits', 'creditsYou', 'creditxa', 'crew', 'crime', 'crimes', 'criminal', 'criminals', 'crisis', 'crisislevel', 'criteria', 'criteriaStart', 'critical', 'critically', 'criticalthinking', 'cross', 'crosscategorical', 'crossfunctional', 'crowded', 'crucial', 'crunching', 'cryptography', 'culminating', 'cultivate', 'cultural', 'culturally', 'culture', 'cumulative', 'curiosities', 'curiosity', 'curiosityWhile', 'curious', 'current', 'currently', 'curricula', 'curricular', 'curriculum', 'curriculumDay', 'curriculumGeoscience', 'curriculumIt', 'curriculumOnce', 'curriculumOther', 'curriculumOur', 'curriculumReady', 'curriculumThat', 'curriculumnGeoscience', 'curriculumnReady', 'curriculumnThat', 'curriculums', 'curriculumsThis', 'curriculumsnTo', 'curriculumxa', 'curry', 'curve', 'custom', 'customer', 'customers', 'customersAn', 'cut', 'cutting', 'cuttingedge', 'cyber', 'cyberattacks', 'cyberattacksxa', 'cybercriminals', 'cybersecurity', 'cybersecuritynThe', 'cybersecurityxa', 'cyberspace', 'cybersteps', 'cycle', 'daily', 'dairy', 'damages', 'dangerous', 'dark', 'dashboards', 'data', 'dataAccording', 'dataThe', 'dataandknowledge', 'database', 'databases', 'datacentric', 'datadriven', 'dataxa', 'date', 'dateBased', 'dateBegin', 'dateListed', 'dateNo', 'dateTuition', 'dates', 'datesxa', 'datexa', 'daughter', 'daunting', 'day', 'dayFind', 'dayNotxa', 'daycare', 'daynPay', 'daynTomatoes', 'daynnIf', 'days', 'daytoday', 'deadline', 'deadlineClick', 'deadlines', 'deadlinesNursing', 'deaf', 'deal', 'dealing', 'debit', 'debt', 'debtsThe', 'decade', 'decadeGet', 'decadeSo', 'decades', 'decent', 'decide', 'decided', 'deciding', 'decision', 'decisionNow', 'decisionStudents', 'decisionmaking', 'decisionmakingxa', 'decisions', 'decline', 'declineFollowing', 'decrease', 'decreased', 'dedicate', 'dedicated', 'dedication', 'deduct', 'deducted', 'deemed', 'deep', 'deeper', 'default', 'defaulting', 'defer', 'deferment', 'deficiency', 'define', 'defined', 'defines', 'defining', 'definitely', 'definition', 'degree', 'degreeAccording', 'degreeAs', 'degreeAt', 'degreeIf', 'degreeJunior', 'degreeLow', 'degreeOur', 'degreePostBaccEndorsementMastersTotal', 'degreeReady', 'degreeThe', 'degreeThere', 'degreeWGU', 'degreeWhat', 'degreenEarning', 'degreenLevelup', 'degreenLow', 'degreenPositions', 'degreenThe', 'degreenWith', 'degreenYou', 'degrees', 'degreesBut', 'degreesCompare', 'degreesLow', 'degreesParental', 'degreesTo', 'degreeseeking', 'degreesnLow', 'degreesnThe', 'degreesnTo', 'degreesxa', 'degreexa', 'delay', 'delayed', 'delaying', 'delays', 'delegate', 'delicious', 'deliver', 'deliverable', 'delivered', 'delivering', 'delivers', 'delivery', 'demand', 'demandThe', 'demanding', 'demandnnThe', 'demands', 'demandsCompetencybased', 'demandsCredentials', 'demandsWGU', 'demandsnOur', 'demandsxa', 'demandxa', 'demonstrate', 'demonstrated', 'demonstrating', 'demonstration', 'denied', 'department', 'departments', 'depend', 'dependable', 'dependence', 'dependency', 'dependent', 'dependents', 'depending', 'depends', 'deployed', 'deployment', 'depression', 'depth', 'derived', 'describe', 'description', 'descriptionWhile', 'deserve', 'deserveThe', 'deservenBetween', 'deservenDepartment', 'deservexa', 'design', 'designated', 'designed', 'designedxa', 'designer', 'designers', 'designing', 'designs', 'desire', 'desired', 'desk', 'desktop', 'despite', 'destined', 'detail', 'detailYou', 'detailed', 'detailoriented', 'details', 'detailsClinicals', 'detailsnnThe', 'detect', 'detective', 'deter', 'determination', 'determine', 'determined', 'determines', 'determining', 'detrimental', 'develop', 'developed', 'developer', 'developers', 'developersSome', 'developing', 'development', 'developmentAre', 'developmentIf', 'developments', 'developmentsnBy', 'developmentxa', 'develops', 'device', 'devices', 'devicesnnAll', 'devise', 'devising', 'devote', 'devoted', 'diabetes', 'diabetesSimilarly', 'diagnosed', 'diagnosis', 'dialoguennMany', 'diarrhea', 'didnt', 'diet', 'differ', 'difference', 'differenceThe', 'differenceWGU', 'differencemaker', 'differencemaking', 'differences', 'differencesxa', 'different', 'differentThe', 'differently', 'differentlynIn', 'differing', 'differs', 'difficult', 'difficulties', 'difficulty', 'digest', 'digital', 'dim', 'dimension', 'diminish', 'din', 'dinner', 'dioxide', 'diploma', 'diplomaFactor', 'diplomaThe', 'dire', 'direct', 'directed', 'directing', 'direction', 'directionAccording', 'directionOur', 'directionReady', 'directionThe', 'directionnnIf', 'directions', 'directionsGiven', 'directionsPositions', 'directly', 'director', 'disabilities', 'disabilitiesThis', 'disabilitiesnnIn', 'disability', 'disabledIf', 'disappear', 'disappointment', 'disaster', 'disbursement', 'discernment', 'discharged', 'disciplinarian', 'disciplinary', 'disciplinennIf', 'disciplines', 'disciplinesA', 'disciplinesReady', 'disciplinesxa', 'discomfort', 'discontinued', 'discouragedWhile', 'discover', 'discovered', 'discoveries', 'discovery', 'discriminate', 'discuss', 'discussed', 'discussing', 'discussion', 'discussions', 'disease', 'diseasePeople', 'diseases', 'disorders', 'disordersThe', 'disordersWGU', 'displaying', 'disposal', 'disrupt', 'disrupting', 'disruptions', 'disruptive', 'distance', 'distinct', 'distinction', 'distracted', 'distracting', 'distraction', 'distractionStrap', 'distractions', 'distribution', 'district', 'districtnAshley', 'districts', 'districtsIf', 'districtsTeachers', 'districtsnThis', 'districtsnnThe', 'disturbed', 'dive', 'diverse', 'diversify', 'diversity', 'divide', 'dividends', 'division', 'divisionWGU', 'doable', 'doctor', 'doctoral', 'doctorate', 'doctors', 'document', 'documentation', 'documenting', 'documents', 'doesnt', 'dollar', 'dollars', 'dolphins', 'dominate', 'done', 'doneAshley', 'doneNo', 'donenIt', 'dont', 'door', 'doors', 'doorsFast', 'dosages', 'doses', 'double', 'doubled', 'doubletake', 'doubt', 'dovetails', 'downsides', 'downtime', 'downxa', 'dozens', 'draft', 'drain', 'drainedDr', 'dramatic', 'dramatically', 'draw', 'drawer', 'drawing', 'drawn', 'dread', 'dream', 'dreamIf', 'dreamThink', 'dreamWhile', 'dreamed', 'dreaming', 'dreams', 'dreamsA', 'dreamsDo', 'dreamsIf', 'dreamsReady', 'dreamsThe', 'dreamsWith', 'dresser', 'drift', 'drinks', 'drip', 'drips', 'drive', 'driven', 'driver', 'drives', 'driving', 'drown', 'dual', 'due', 'dull', 'dust', 'duties', 'duty', 'dynamic', 'eachxa', 'eager', 'earlier', 'early', 'earn', 'earnThis', 'earned', 'earning', 'earnings', 'earningsAccording', 'earningsIf', 'earningsnnSee', 'earningxa', 'earnnThis', 'earns', 'earth', 'ease', 'easier', 'easiest', 'easily', 'easing', 'easy', 'easyWGU', 'eating', 'ebook', 'ebooks', 'echelons', 'ecology', 'ecologynnThe', 'ecommerce', 'economic', 'economics', 'economies', 'economists', 'economy', 'economyxa', 'ecosystems', 'ed', 'edge', 'educate', 'educated', 'education', 'educationBefore', 'educationBut', 'educationEarn', 'educationEvery', 'educationFrom', 'educationImpressive', 'educationIn', 'educationOur', 'educationOver', 'educationPositions', 'educationThe', 'educationThere', 'educationTodays', 'educationTransfer', 'educationWe', 'educationYou', 'educational', 'educationnEmployers', 'educationnMore', 'educationxa', 'educator', 'educatorA', 'educatorMany', 'educatorReady', 'educatornGreat', 'educatornReady', 'educatornWGU', 'educators', 'educatorsAfter', 'educatorsAs', 'educatorsDid', 'educatorsMany', 'educatorsReady', 'educatorsSo', 'educatorsnnThe', 'effect', 'effective', 'effectively', 'effectivelyWhether', 'effectivelynShifting', 'effectivelynWith', 'effectiveness', 'effectivenessReady', 'effectivenessSo', 'effectivenessThe', 'effects', 'efficiency', 'efficient', 'efficiently', 'effort', 'effortThis', 'effortlessly', 'efforts', 'eg', 'eight', 'eighthgraders', 'either', 'elbows', 'elected', 'election', 'electrical', 'electricity', 'electronic', 'electronically', 'element', 'elementary', 'elementaryage', 'elements', 'elevate', 'elevating', 'eligibility', 'eligibilityThe', 'eligibilityxa', 'eligible', 'eliminate', 'eliminates', 'else', 'elseHalfxa', 'elsePortable', 'elsenThe', 'elsewhere', 'email', 'emailSchedule', 'emailed', 'embark', 'embrace', 'emergedxa', 'emergencies', 'emergency', 'emerges', 'emerging', 'emotional', 'emotionally', 'emotions', 'emphasis', 'emphasize', 'emphasizes', 'employ', 'employability', 'employable', 'employed', 'employee', 'employeenMany', 'employeerelated', 'employees', 'employeesIt', 'employeesOur', 'employer', 'employerAs', 'employerIf', 'employerMost', 'employerWhether', 'employers', 'employersIn', 'employersnAccreditation', 'employersponsored', 'employment', 'employmentRead', 'empower', 'empowered', 'empowering', 'empowers', 'enable', 'enabled', 'enables', 'encompasses', 'encounter', 'encourage', 'encouraged', 'encourages', 'encouraging', 'encouragingThe', 'encouragingWGU', 'encrypted', 'encrypting', 'end', 'endeavor', 'endeavorsnnThe', 'ended', 'endless', 'endorse', 'endorsed', 'endorsement', 'endorsementn', 'endorsementnWGU', 'endorsementnn', 'endorsementprep', 'endorsementpreparation', 'endorsements', 'endorsementsEligibility', 'endorsementsInterested', 'endorsementsThe', 'endorsementsnBy', 'endorsementsnThis', 'endorsementsnWGUs', 'ends', 'enemy', 'energize', 'energy', 'energyOur', 'energyWhen', 'enforcement', 'enforcing', 'engage', 'engaged', 'engagedThis', 'engagement', 'engaging', 'engagingIf', 'engagingWhy', 'engine', 'engineer', 'engineering', 'engineeringThe', 'engineeringYou', 'engineers', 'engineersIt', 'engineersSoftware', 'enhance', 'enhanced', 'enhancing', 'enjoy', 'enjoyable', 'enjoyableStress', 'enjoyed', 'enjoying', 'enlist', 'enormous', 'enough', 'enriched', 'enroll', 'enrolled', 'enrolledWGU', 'enrollednnFourteen', 'enrolling', 'enrollment', 'enrollmentContact', 'enrollments', 'enrollmentxa', 'enrolls', 'ensure', 'ensures', 'ensuring', 'entail', 'enter', 'entered', 'entering', 'enterprise', 'enterpriselevel', 'enterprises', 'entertainer', 'entertainment', 'enthused', 'enthusiasm', 'enthusiastic', 'enticing', 'entire', 'entirely', 'entitled', 'entitles', 'entity', 'entrance', 'entrepreneur', 'entrepreneurA', 'entrepreneurial', 'entrepreneurs', 'entry', 'entrylevel', 'envelopes', 'environment', 'environmentBecoming', 'environmentNote', 'environmentOnce', 'environmentSuccessful', 'environmentThe', 'environmentThis', 'environmental', 'environmentalists', 'environments', 'environmentsAn', 'environmentsBusiness', 'environmentsEducators', 'environmentsIts', 'environmentsReady', 'environmentsnWGUs', 'envision', 'episodic', 'equal', 'equally', 'equalnWGU', 'equation', 'equations', 'equip', 'equipment', 'equipmentSmart', 'equipped', 'equivalent', 'equivalents', 'errands', 'error', 'errors', 'escalate', 'escalated', 'especially', 'essential', 'essentially', 'establish', 'established', 'establishing', 'esteem', 'esteemed', 'estimate', 'estimated', 'estimating', 'et', 'etc', 'etcRequesting', 'ethic', 'ethical', 'ethics', 'eustress', 'evaluate', 'evaluated', 'evaluates', 'evaluating', 'evaluation', 'evaluationWGUs', 'even', 'evening', 'evenings', 'event', 'events', 'eventsIf', 'eventsTaking', 'eventually', 'ever', 'everchanging', 'everevolving', 'everexpanding', 'evergrowing', 'everincreasing', 'every', 'everyday', 'everyone', 'everyonexa', 'everything', 'everywhere', 'evicted', 'evidence', 'evidencebased', 'evidencebasedCompetencies', 'evidencebasednCompetencies', 'evolution', 'evolutionYou', 'evolve', 'evolved', 'evolves', 'evolving', 'exactly', 'exam', 'examThis', 'examination', 'examinationThe', 'examine', 'examines', 'examining', 'examnWGU', 'example', 'examples', 'exams', 'examsThe', 'examsnAccountants', 'examsnAlthough', 'exceed', 'exceedTop', 'exceeded', 'excel', 'excelled', 'excellence', 'excellent', 'excellentCollege', 'excellentCompare', 'excellentSo', 'excellentnRapid', 'excellentnWGU', 'excelling', 'except', 'exception', 'exceptional', 'exceptions', 'excess', 'exchanging', 'excited', 'exciting', 'excludes', 'excluding', 'exclusive', 'exclusively', 'excuse', 'execute', 'executexa', 'execution', 'executive', 'executivelevel', 'executives', 'executivesDiscover', 'executivesIts', 'executivesxa', 'exemption', 'exercise', 'exert', 'exerting', 'exhausted', 'exist', 'existing', 'exists', 'exotic', 'expand', 'expanded', 'expanding', 'expands', 'expansion', 'expect', 'expectA', 'expectBe', 'expectancy', 'expectation', 'expectations', 'expectationsGreat', 'expectationsTop', 'expectationsn', 'expected', 'expects', 'expense', 'expenses', 'expensesnWe', 'experience', 'experienceAccording', 'experienceAt', 'experienceCAEP', 'experienceGeoscience', 'experienceNo', 'experienceOne', 'experienceSimilarly', 'experienceThe', 'experienceWestern', 'experienceWherever', 'experienced', 'experiencenAccording', 'experiencenDiscover', 'experiencenSeniorlevel', 'experiencenThe', 'experiencenYou', 'experiences', 'experiencesTelehealth', 'experiencing', 'experiential', 'experiment', 'experimentation', 'experiments', 'experimentsxa', 'expert', 'expertise', 'expertiseWhen', 'expertisexa', 'experts', 'expertsxa', 'explain', 'explaining', 'exploding', 'exploit', 'explore', 'explorers', 'explores', 'exploring', 'exponential', 'exponentially', 'exposed', 'exposing', 'expression', 'extend', 'extends', 'extension', 'extensive', 'extensively', 'extent', 'extra', 'extraordinarily', 'extraordinary', 'extreme', 'extremely', 'eye', 'eyes', 'eyesAt', 'face', 'faced', 'facets', 'facilitate', 'facilities', 'facility', 'facilityOur', 'facing', 'fact', 'factor', 'factored', 'factors', 'factorsAccording', 'factorsNOTE', 'factorsTeaching', 'facts', 'factual', 'faculties', 'faculty', 'facultySage', 'facultyxa', 'fades', 'failed', 'fails', 'failsafe', 'failure', 'fair', 'fairThe', 'fairly', 'fall', 'fallA', 'fallnBetween', 'falls', 'familiar', 'familiarity', 'families', 'familiesAs', 'familiesClick', 'familiesEarning', 'familiesIt', 'family', 'familyowned', 'fan', 'fantasy', 'far', 'farBut', 'fascinated', 'fascinating', 'fascination', 'fashion', 'fast', 'faster', 'fasterYou', 'fasterxa', 'fastest', 'fastestgrowing', 'fastgrowing', 'fastmoving', 'fastpaced', 'fatigue', 'fats', 'fatty', 'faucet', 'favor', 'favorData', 'favorReady', 'favorable', 'favorably', 'favorite', 'fear', 'feasibility', 'feasible', 'feathered', 'federal', 'fee', 'feeYou', 'feedback', 'feednSitting', 'feel', 'feeling', 'feelings', 'feels', 'fees', 'feesAnd', 'feesnClick', 'feesxa', 'feet', 'fella', 'fellow', 'felt', 'fertile', 'fettered', 'fewComputerbased', 'fewFind', 'fewWGU', 'fewer', 'fiber', 'field', 'fieldA', 'fieldAccording', 'fieldAcross', 'fieldAs', 'fieldBecoming', 'fieldCompetencybased', 'fieldEmployer', 'fieldEmployment', 'fieldFind', 'fieldFor', 'fieldIf', 'fieldIn', 'fieldIt', 'fieldIts', 'fieldMany', 'fieldMarket', 'fieldMastering', 'fieldMore', 'fieldNot', 'fieldNumber', 'fieldNursing', 'fieldPositions', 'fieldProjected', 'fieldRapid', 'fieldReady', 'fieldSee', 'fieldSeniorlevel', 'fieldThe', 'fieldTo', 'fieldWhen', 'fieldWith', 'fieldexperienced', 'fieldnAccountants', 'fieldnAs', 'fieldnCompetencybased', 'fieldnDemand', 'fieldnIf', 'fieldnLearning', 'fieldnPositions', 'fieldnReady', 'fieldnVirtually', 'fields', 'fieldsBecause', 'fieldsIn', 'fieldsPositions', 'fieldwork', 'fieldxa', 'fierce', 'fifth', 'fifty', 'fight', 'fightorflight', 'figure', 'figures', 'file', 'filed', 'filing', 'fill', 'filled', 'filledThis', 'filling', 'final', 'finalOnly', 'finalizes', 'finally', 'finance', 'finances', 'financial', 'financially', 'financialserviceswguedu', 'financing', 'find', 'finding', 'finds', 'fine', 'finely', 'fingertips', 'finish', 'finished', 'finishing', 'firewall', 'firm', 'firms', 'firmsnAccountants', 'firmsnPositions', 'firmsnPublic', 'firmsnReady', 'first', 'firsthand', 'firsttime', 'fish', 'fit', 'fitYour', 'fitnWGU', 'fits', 'five', 'fiveminute', 'fixed', 'fixing', 'flasks', 'flat', 'flatrate', 'flaxseed', 'flex', 'flexibility', 'flexibilityDiscover', 'flexibilityThe', 'flexible', 'floor', 'flourish', 'flow', 'flu', 'fluctuate', 'fluent', 'fluently', 'fluid', 'fluids', 'fluorescent', 'fly', 'focus', 'focusMany', 'focused', 'focusedThis', 'focuses', 'focusing', 'folks', 'follow', 'followed', 'following', 'followingStudents', 'followingYour', 'followingn', 'followingxa', 'follows', 'followup', 'food', 'foodHospitals', 'foodOily', 'foods', 'foot', 'footsteps', 'forAt', 'forIf', 'forOnce', 'forSimilarly', 'forThe', 'forWGU', 'forWe', 'forWestern', 'force', 'forecast', 'forecasting', 'forecasts', 'forefront', 'foreign', 'foremost', 'forensics', 'foreseeable', 'foresight', 'forestry', 'forever', 'forget', 'forgetting', 'forgivable', 'forgiving', 'forklift', 'form', 'formOnce', 'formal', 'format', 'formation', 'formative', 'former', 'forming', 'forms', 'formula', 'formulate', 'fornA', 'fornAt', 'fornBy', 'fornReady', 'fornThe', 'fornWGU', 'fornour', 'forprofit', 'forthcoming', 'forty', 'forward', 'forwardFocus', 'forwardStudy', 'forwardthinking', 'forxa', 'fostering', 'found', 'foundation', 'foundational', 'foundations', 'founded', 'founders', 'founding', 'four', 'fouryear', 'free', 'freedom', 'freelance', 'freelancer', 'freelancers', 'frequency', 'frequent', 'frequently', 'fresh', 'friend', 'friends', 'friendships', 'fromxa', 'front', 'frontAsk', 'frontier', 'frontiers', 'fruits', 'frustrated', 'frustrating', 'frustrationMental', 'frustrations', 'fuel', 'fueled', 'fueling', 'fulfill', 'fulfilledA', 'fulfilledReady', 'fulfilling', 'fulfillingHigh', 'fulfillment', 'full', 'fullspectrum', 'fulltime', 'fully', 'fun', 'function', 'functional', 'functionality', 'functioning', 'functions', 'fundamental', 'fundamentally', 'fundamentals', 'fundamentalsnnAre', 'funding', 'funds', 'furniture', 'furtherDay', 'furthering', 'furthernDay', 'future', 'futureIf', 'futureInformation', 'futureOur', 'futureThe', 'futureWith', 'futurefocused', 'futurenCollege', 'futurenInformation', 'futurenOur', 'futurenThere', 'futures', 'futurexa', 'gain', 'gained', 'gaining', 'game', 'gamer', 'games', 'gap', 'gaps', 'garner', 'garnering', 'gave', 'geared', 'geeks', 'gender', 'general', 'generally', 'generated', 'generation', 'generationIf', 'generationWGU', 'generational', 'generationnAccording', 'generationnWGU', 'generations', 'generators', 'generosity', 'generous', 'genetic', 'genetics', 'geniuses', 'genre', 'geographic', 'geography', 'geological', 'geology', 'geologyWGU', 'geometric', 'geometry', 'geoscience', 'geoscienceearth', 'geosciences', 'geosciencesThe', 'geoscientist', 'geoscientists', 'geosphere', 'geriatrics', 'get', 'gets', 'getting', 'giant', 'gig', 'gigs', 'give', 'given', 'gives', 'givesnMany', 'givexa', 'giving', 'glancing', 'glass', 'glimpse', 'global', 'globalization', 'glucose', 'glutenfree', 'glycemic', 'go', 'goAccording', 'goSo', 'goTheres', 'goal', 'goals', 'goalsA', 'goalsAccounting', 'goalsAcross', 'goalsAlthough', 'goalsAre', 'goalsAs', 'goalsAt', 'goalsComputer', 'goalsConsumer', 'goalsData', 'goalsDepending', 'goalsGreat', 'goalsHowever', 'goalsIT', 'goalsIf', 'goalsIn', 'goalsInformation', 'goalsMost', 'goalsMuch', 'goalsNursing', 'goalsPhysics', 'goalsPrincipals', 'goalsRegistered', 'goalsSee', 'goalsSome', 'goalsThe', 'goalsThere', 'goalsWhen', 'goalsYour', 'goalsn', 'goalsnA', 'goalsnBack', 'goalsnGreat', 'goalsnWGU', 'goalsxa', 'goes', 'going', 'goingAccording', 'gold', 'good', 'goodThe', 'got', 'goto', 'gotten', 'govern', 'governance', 'governed', 'governing', 'government', 'governmental', 'governments', 'governors', 'gowns', 'grab', 'gracefully', 'grad', 'grade', 'gradeIf', 'gradenBy', 'gradennA', 'grades', 'gradesConquering', 'gradesFor', 'gradesThe', 'grading', 'grads', 'graduate', 'graduateGraduate', 'graduateLearn', 'graduateTo', 'graduated', 'graduates', 'graduatesAffordable', 'graduatesAll', 'graduatesAt', 'graduatesProfessional', 'graduatesSee', 'graduatesWGU', 'graduatesnAt', 'graduatesnProfessional', 'graduatesnYou', 'graduatesnnAt', 'graduatesnnProfessional', 'graduatesnnSee', 'graduatesxa', 'graduatexa', 'graduating', 'graduation', 'graduationIf', 'graduationYour', 'graduationnnEven', 'graduationnnGenerally', 'graduationxa', 'grains', 'grandfathering', 'grant', 'granted', 'grants', 'graphic', 'graphics', 'grasp', 'gratifying', 'gravitate', 'gravity', 'great', 'greater', 'greatest', 'greatly', 'greet', 'grew', 'grocery', 'grooveNot', 'ground', 'groundbreaking', 'grounded', 'groundwork', 'group', 'groupThe', 'groupWGU', 'groups', 'grow', 'growIn', 'growing', 'grown', 'grows', 'growth', 'growthAre', 'growthWith', 'guarantee', 'guaranteed', 'guidance', 'guide', 'guided', 'guidelines', 'guidelinesIn', 'guides', 'guitarist', 'guy', 'habits', 'hack', 'hackers', 'hacking', 'half', 'halfcent', 'halfxa', 'hall', 'hammer', 'hand', 'handful', 'handheld', 'handily', 'handinhand', 'handle', 'handled', 'handles', 'handling', 'hands', 'handsdown', 'handson', 'handy', 'handyFacebook', 'hanger', 'happen', 'happened', 'happening', 'happeningnAs', 'happens', 'happy', 'hard', 'hardBecause', 'hardball', 'harder', 'hardest', 'hardware', 'hardwired', 'hardwon', 'hardworking', 'hardxa', 'harness', 'harnesses', 'harsh', 'hasxa', 'hat', 'hate', 'hats', 'havent', 'havexa', 'havoc', 'hazards', 'head', 'headache', 'headaches', 'headed', 'headphones', 'headquarters', 'heads', 'healerWe', 'health', 'healthcare', 'healthcareHealth', 'healthcareNote', 'healthcarePeople', 'healthcareWhich', 'healthcareassociated', 'healthcarenDiscover', 'healthcarenThe', 'healthcarerelated', 'healthcarespecific', 'healthcarexa', 'healthrelated', 'healthxa', 'healthy', 'hear', 'heard', 'heart', 'heartbeatShortness', 'heartburn', 'hearthealthy', 'heathxa', 'heavily', 'heavy', 'hed', 'heft', 'heightened', 'held', 'helm', 'help', 'helpJust', 'helpYou', 'helped', 'helpful', 'helping', 'helps', 'hereCompare', 'hereIf', 'hereOverall', 'hereReady', 'hereThere', 'hereWGUs', 'heredity', 'herenThe', 'heres', 'herring', 'herselfAshley', 'hesitate', 'hiccup', 'hidden', 'high', 'highdemand', 'higher', 'higherCareer', 'higherHere', 'higherlevel', 'higherpaying', 'higherups', 'higherxa', 'highest', 'highestpaying', 'highfidelity', 'highflying', 'highgrowth', 'highlevel', 'highlight', 'highly', 'highmiddle', 'highneed', 'highpaying', 'highperformance', 'highquality', 'highschool', 'hightech', 'hilarious', 'hire', 'hired', 'hiresn', 'hiring', 'historical', 'history', 'historyAccording', 'hit', 'hitting', 'hold', 'holders', 'holding', 'holds', 'holidays', 'home', 'homes', 'homework', 'hone', 'honed', 'honor', 'honored', 'hook', 'hoot', 'hope', 'hoped', 'hopeless', 'hoping', 'hopper', 'horizons', 'hospital', 'hospitalIn', 'hospitalThe', 'hospitals', 'hospitalsAutomated', 'hospitalsnWGU', 'host', 'hosted', 'hot', 'hotbutton', 'hotter', 'hottest', 'hour', 'hourly', 'hours', 'hoursDepending', 'hoursMilitary', 'hoursOnce', 'hoursThe', 'hoursYou', 'hoursnConsumer', 'hoursnIf', 'hoursnInformation', 'hoursnThe', 'hoursxa', 'hourxa', 'housed', 'housing', 'howHeres', 'however', 'hows', 'httpsbenefitsvagovgibillforevergibillaspnGI', 'httpstudentclaimwgueduAccess', 'huge', 'human', 'humancomputer', 'humanities', 'humansxa', 'humid', 'humor', 'hundreds', 'hungry', 'hurt', 'husband', 'hushed', 'hustles', 'hybrid', 'hybridized', 'hydrogen', 'hydrosphere', 'hypothesis', 'iPads', 'iPhones', 'iTouch', 'ice', 'idea', 'ideaIt', 'ideal', 'ideally', 'ideas', 'identical', 'identified', 'identifies', 'identify', 'identities', 'identity', 'ideology', 'ignite', 'ignore', 'illness', 'illustrating', 'illustrious', 'image', 'imagination', 'imaginations', 'imaginative', 'imagine', 'imagined', 'immediate', 'immediately', 'immersed', 'immigrant', 'immigrants', 'immigration', 'immunization', 'immunizations', 'impact', 'impacted', 'impactful', 'impacting', 'impacts', 'imparting', 'imparts', 'imperative', 'implement', 'implementation', 'implementing', 'importance', 'important', 'importantly', 'impossible', 'impressed', 'impressive', 'improve', 'improved', 'improvement', 'improvements', 'improves', 'improving', 'improvise', 'inA', 'inBecoming', 'inWGU', 'inYour', 'inability', 'incentive', 'incentives', 'incentivesnnAccording', 'incentivize', 'incident', 'inclass', 'inclassroom', 'include', 'includeIf', 'includeKeep', 'includePositions', 'includeStomach', 'includeThese', 'includeWith', 'included', 'includednSee', 'includenPositions', 'includenWith', 'includes', 'includexa', 'including', 'includingMore', 'includingNote', 'includingSTEM', 'includingnPositions', 'includingnStarting', 'inclusive', 'income', 'incoming', 'incomparableFor', 'incomplete', 'inconvenient', 'incorporate', 'incorporated', 'incorporates', 'incorporating', 'incorporatingxa', 'increase', 'increased', 'increasennAccording', 'increases', 'increasesHere', 'increasesSource', 'increasesYou', 'increasing', 'increasingly', 'incredibly', 'incubate', 'indeedcom', 'indemand', 'independence', 'independent', 'independently', 'indepth', 'index', 'indicate', 'indicates', 'indication', 'indications', 'indicators', 'individual', 'individualized', 'individually', 'individuals', 'individualsThis', 'industries', 'industriesPositions', 'industriesStarting', 'industriesnBy', 'industry', 'industryAccording', 'industryFind', 'industryFor', 'industryFrom', 'industryIf', 'industryIn', 'industryInstructional', 'industryReady', 'industrySoftware', 'industryThe', 'industryThis', 'industryWGU', 'industryaligned', 'industrycurrent', 'industryrecognized', 'industryrelated', 'industryrelevant', 'industrys', 'industryspecific', 'industrystandard', 'industryxa', 'inevitable', 'infacility', 'infect', 'infield', 'influence', 'influential', 'info', 'infographic', 'inform', 'informaticists', 'informatics', 'information', 'informationAnd', 'informationdriven', 'informationnBuilding', 'informationnIf', 'informed', 'informs', 'infrastructure', 'inherent', 'initial', 'initiallicensure', 'initially', 'initiative', 'initiatives', 'initiativesnPositions', 'initiativesnWith', 'injuries', 'injury', 'inline', 'innGraduates', 'innPositions', 'innYour', 'innate', 'innovate', 'innovation', 'innovations', 'innovative', 'innovator', 'innovators', 'inoffice', 'inorganic', 'inperson', 'input', 'inquiring', 'inquiry', 'inquisitive', 'ins', 'insane', 'inside', 'insiders', 'insight', 'insights', 'inspiration', 'inspire', 'inspireThe', 'inspired', 'inspirennOne', 'inspiring', 'installations', 'installing', 'instantly', 'instead', 'insteadThe', 'insteadValuexa', 'instinctive', 'instincts', 'instinctually', 'institution', 'institutionLearn', 'institutionNote', 'institutionThe', 'institutionnHealth', 'institutionnHuman', 'institutionnIT', 'institutionnPublic', 'institutionnReady', 'institutions', 'institutionsWork', 'institutionsnThis', 'institutionsnWork', 'institutionsnnA', 'instruct', 'instructing', 'instruction', 'instructionThis', 'instructional', 'instructionbased', 'instructions', 'instructor', 'instructors', 'instructorsnnIf', 'insufficient', 'insurance', 'integral', 'integrate', 'integrated', 'integration', 'integrity', 'integrityxa', 'intellectually', 'intelligence', 'intelligent', 'intend', 'intended', 'intense', 'intent', 'intentional', 'interact', 'interacting', 'interaction', 'interactions', 'interactive', 'interacts', 'interconnecting', 'interdependence', 'interest', 'interestWhich', 'interested', 'interesting', 'interests', 'interestsOur', 'interface', 'interim', 'intermediation', 'intermittent', 'intern', 'internal', 'international', 'internet', 'internetxa', 'interpersonal', 'interpret', 'interprofessional', 'interrupting', 'interruptions', 'interrupts', 'intertwine', 'intertwined', 'intervals', 'intervention', 'interventions', 'interview', 'interviewing', 'intimidating', 'intimidatingAt', 'intricacies', 'intricate', 'intrigued', 'introduce', 'introduced', 'intuitive', 'invaluable', 'invest', 'invested', 'investigate', 'investing', 'investment', 'investmentAcademic', 'investmentnDiscover', 'investmentnIf', 'investments', 'investor', 'involve', 'involveKeeping', 'involved', 'involvedNot', 'involves', 'inxa', 'iodide', 'irritable', 'isA', 'isnThe', 'isnt', 'isolated', 'isolation', 'issue', 'issueAccording', 'issueThough', 'issueWGU', 'issues', 'isxa', 'itBeyond', 'itCome', 'itDont', 'itLuckily', 'itOnce', 'itPlanning', 'itSeniorlevel', 'itSymptoms', 'itThe', 'itThere', 'itWe', 'itWestern', 'item', 'itemsMake', 'itll', 'itnAll', 'itnThe', 'itsxa', 'itxa', 'jams', 'jaw', 'jeopardize', 'job', 'jobAre', 'jobTaking', 'jobn', 'jobnWhile', 'jobrelated', 'jobs', 'jobsNo', 'jobsSee', 'jobsWGU', 'join', 'journalism', 'journalist', 'journals', 'journey', 'judgment', 'juggling', 'juices', 'jump', 'jumps', 'jumpstart', 'junior', 'keep', 'keeping', 'keeps', 'kept', 'key', 'keys', 'kicks', 'kickstart', 'kids', 'kill', 'kind', 'kindergarten', 'kindergartens', 'kinds', 'kippers', 'kit', 'kits', 'knack', 'knew', 'know', 'knowhow', 'knowhowYour', 'knowing', 'knowledge', 'knowledgeA', 'knowledgeWhat', 'knowledgeable', 'knowledgenEarning', 'knowledgenPositions', 'known', 'knownYour', 'knows', 'knowxa', 'ks', 'lab', 'labor', 'labs', 'labsThis', 'lack', 'ladder', 'lag', 'land', 'landbased', 'landing', 'landlordWhat', 'landscape', 'landscapeDiscover', 'landscapeNumber', 'lane', 'language', 'languageThe', 'languagennTESOL', 'languages', 'laptops', 'large', 'largely', 'larger', 'largest', 'last', 'lastYou', 'lasting', 'lasts', 'late', 'latenight', 'later', 'latest', 'latter', 'laughing', 'laughs', 'launch', 'launches', 'launching', 'law', 'lawns', 'laws', 'lay', 'laying', 'layout', 'lays', 'lead', 'leadThe', 'leader', 'leaderLearning', 'leaderWGU', 'leaderWe', 'leaders', 'leadersIf', 'leadersReady', 'leadership', 'leadershipCareers', 'leadershipEvery', 'leadershipFind', 'leadershipIf', 'leadershipThe', 'leadershipxa', 'leading', 'leads', 'league', 'leaky', 'lean', 'leap', 'learn', 'learnEvery', 'learned', 'learner', 'learners', 'learnersnBy', 'learnersnInstructional', 'learnersnThis', 'learnersnnSome', 'learning', 'learningA', 'learningThe', 'learningWGU', 'learnnnCurriculums', 'learnorg', 'least', 'leave', 'leaving', 'lecture', 'lecturebased', 'lectures', 'lecturing', 'led', 'ledgers', 'left', 'leg', 'legal', 'legend', 'legislation', 'legislative', 'legitimate', 'legwork', 'lender', 'lenders', 'lending', 'lengthy', 'less', 'lessEstimates', 'lessnEstimates', 'lessnWGU', 'lesson', 'lessons', 'lessonsIf', 'lessonsMiddle', 'lessonsReady', 'lessonsThe', 'lessonsThere', 'lessonsnnAs', 'lessonsnnIf', 'let', 'lets', 'letter', 'letters', 'level', 'levelAdditionally', 'levelOur', 'levelThe', 'levels', 'levelsThe', 'levelsnnDid', 'levelsxa', 'levelxa', 'leverage', 'leveraging', 'liabilities', 'liaison', 'librarians', 'libraries', 'library', 'license', 'licenseEach', 'licenseMost', 'licenseReady', 'licenseSome', 'licensed', 'licensedcertified', 'licensen', 'licenses', 'licensesxa', 'licensing', 'licensure', 'licensureAAQEP', 'licensureChoosing', 'licensureThis', 'licensureTo', 'licensureWGUs', 'licensurecertification', 'licensurenOnce', 'licensurenTo', 'licensurennA', 'licensurennTypically', 'licensurexa', 'lies', 'life', 'lifeMake', 'lifeThe', 'lifelong', 'lifenBeyond', 'lifennGeoscientists', 'lifestyle', 'lifestyleAt', 'lifestylenAt', 'lifestyles', 'lifestylexa', 'lifetime', 'lifexa', 'lifted', 'light', 'lightbulb', 'lighting', 'lights', 'like', 'likeIn', 'likePositions', 'likeSchools', 'likeThe', 'likeWith', 'likelihood', 'likely', 'likenIf', 'likenPositions', 'likenWhat', 'likes', 'limit', 'limited', 'limitless', 'limitlessLearn', 'limits', 'linchpin', 'line', 'lineThe', 'lines', 'linesOur', 'linguistic', 'linguistically', 'link', 'linked', 'links', 'linksAccording', 'linksInterested', 'linseed', 'list', 'listed', 'listen', 'listener', 'listings', 'lists', 'literally', 'literature', 'little', 'live', 'liveThis', 'lively', 'lives', 'livesBalancing', 'livesBesides', 'livesThe', 'livesThis', 'livesnExpand', 'livesnThe', 'livesnWe', 'livesnnThe', 'livesxa', 'living', 'load', 'loan', 'loannnA', 'loans', 'loansFederal', 'loansSee', 'loansxa', 'local', 'locale', 'located', 'location', 'locationThe', 'locations', 'locationsnWGU', 'locationto', 'lock', 'loftier', 'lofty', 'log', 'logged', 'logging', 'logic', 'logical', 'logically', 'login', 'logistics', 'logos', 'logsIf', 'long', 'longer', 'longerterm', 'longterm', 'longtermxa', 'longtime', 'look', 'looked', 'looking', 'lookingReady', 'lookingThe', 'lookout', 'looks', 'loss', 'lost', 'lot', 'lots', 'loud', 'lounge', 'love', 'loveThe', 'loved', 'lovers', 'low', 'lowcarb', 'lowcost', 'lower', 'lowerdivision', 'lowering', 'lowest', 'lowestever', 'lowestpaid', 'luck', 'luckily', 'lucrative', 'lunch', 'machine', 'machines', 'mackerel', 'made', 'magnet', 'magnetism', 'mailed', 'mailing', 'main', 'maintain', 'maintained', 'maintaining', 'maintains', 'maintenance', 'major', 'majored', 'majority', 'majorspecific', 'make', 'makennAs', 'maker', 'makes', 'making', 'malicious', 'malware', 'manage', 'managed', 'management', 'managementAt', 'managementBusiness', 'managementCompare', 'managementIts', 'managementReady', 'managementThe', 'managementThough', 'managementWhat', 'managementdata', 'managementlevel', 'managementnA', 'managementnBusiness', 'managementnCompanies', 'managementnFind', 'managementnOur', 'managementsavvy', 'managementxa', 'manager', 'managerDedicated', 'managerOur', 'managerWhere', 'managerWhile', 'managerial', 'managers', 'managersAccording', 'managersnDiscover', 'managersnThe', 'managersxa', 'manages', 'managing', 'mandating', 'manifest', 'manifestation', 'manipulate', 'manipulation', 'manufacturing', 'many', 'manyPositions', 'manyWith', 'mapping', 'marine', 'mark', 'marked', 'market', 'marketExperienced', 'marketIt', 'marketMiamiDade', 'marketTodays', 'marketability', 'marketable', 'marketer', 'marketers', 'marketing', 'marketplace', 'marketplaceAccording', 'marketplaceDiscover', 'marketplaceGenerally', 'marketplaceIf', 'marketplaceIts', 'marketplaceThe', 'marketplaceWGU', 'marketplaceWe', 'marketrelevant', 'marketresponsive', 'markets', 'marketxa', 'marks', 'marriage', 'marvel', 'mascotxa', 'massive', 'master', 'masterProfessional', 'mastered', 'masteredCompetencybased', 'masteredYour', 'masterednAs', 'masterednCompetencybased', 'masterednOne', 'masterednProfessional', 'masterednSchedules', 'masteredxa', 'mastering', 'masternProfessional', 'masters', 'mastersprepared', 'mastersxa', 'mastery', 'match', 'matched', 'matching', 'mater', 'material', 'materialThe', 'materialWe', 'materialnnWondering', 'materials', 'materialsAside', 'math', 'mathAccording', 'mathNot', 'mathThe', 'mathematical', 'mathematics', 'mathintensive', 'mathnnGet', 'mathxa', 'matter', 'max', 'maximize', 'maximum', 'may', 'maybe', 'mayxa', 'meal', 'meals', 'mean', 'meaning', 'meaningful', 'means', 'meantimeIf', 'meantimeReady', 'measure', 'measured', 'measures', 'measuring', 'mechanics', 'media', 'median', 'medical', 'medicalsurgical', 'medication', 'medicine', 'meet', 'meeting', 'meetings', 'meets', 'mellow', 'member', 'members', 'memberships', 'membersnCompetencybased', 'memorable', 'memories', 'memorize', 'memorizing', 'memory', 'men', 'mental', 'mentally', 'mention', 'mentioned', 'mentor', 'mentoring', 'mentors', 'mentorship', 'merely', 'merging', 'meshes', 'message', 'met', 'meteorology', 'method', 'methodRequest', 'methodologies', 'methodologiesFor', 'methodology', 'methods', 'methodsPositions', 'methodsThe', 'methodsxa', 'metrics', 'metro', 'metropolitan', 'micromanagedNow', 'microscopes', 'mid', 'midday', 'middle', 'middlegrades', 'middles', 'middleschool', 'midlevel', 'midmanagement', 'midsentence', 'midwinter', 'might', 'migrainesHypertensionHeart', 'migrantsnnThe', 'mild', 'mildtomoderate', 'miles', 'milestone', 'milestones', 'military', 'militaryfriendly', 'militaryfriendlyAt', 'million', 'millionnAs', 'millionnThrough', 'millions', 'mind', 'mindSaying', 'minds', 'mindsWGU', 'mindset', 'mindsnnAccording', 'mineral', 'minimal', 'minimum', 'mining', 'minor', 'minored', 'minority', 'minus', 'minute', 'minutes', 'minutesnYour', 'mirror', 'misconceptions', 'miss', 'missing', 'mission', 'missioncritical', 'missiondriven', 'missions', 'mistake', 'mistakenly', 'mistakes', 'mitigate', 'mix', 'mixing', 'mobile', 'mobility', 'mode', 'model', 'models', 'modem', 'moderate', 'moderation', 'modern', 'modest', 'mold', 'mom', 'moment', 'money', 'moneyOur', 'moneySee', 'moneyStudents', 'moneyn', 'moneynCompare', 'moneynEvery', 'moneys', 'moneyusnewscomFurthermore', 'moneyxa', 'monitor', 'monitored', 'monitoring', 'monitors', 'monotonous', 'month', 'monthly', 'months', 'moon', 'morale', 'moreBack', 'moreBecause', 'moreBeyond', 'moreBy', 'moreCurrent', 'moreOur', 'moreSupportivenOur', 'moreWith', 'moren', 'morenBy', 'morenEarning', 'morenOur', 'morennCaring', 'morespecialized', 'moretraditional', 'morexa', 'morning', 'mornings', 'mostly', 'mostsuccessful', 'motion', 'motivate', 'motivated', 'motivates', 'motivating', 'motivation', 'motor', 'mountains', 'mouth', 'move', 'moveDepending', 'moveDiscover', 'moveIf', 'moveIts', 'moveNurse', 'moveSo', 'moveThe', 'moveThere', 'moveTo', 'moved', 'movement', 'moves', 'movexa', 'movie', 'movies', 'moving', 'mowing', 'much', 'muchneeded', 'multidimensional', 'multidisciplinary', 'multifaceted', 'multimedia', 'multimillion', 'multinational', 'multipart', 'multiple', 'multiplication', 'multiply', 'multisector', 'multitasking', 'multitude', 'munging', 'municipalities', 'muscle', 'muscleladen', 'music', 'must', 'mustYour', 'musthave', 'mustxa', 'mutations', 'myriad', 'n', 'nA', 'nAccording', 'nAnd', 'nAnother', 'nAt', 'nBig', 'nBusinesses', 'nBy', 'nCandidates', 'nCareer', 'nClear', 'nCompanies', 'nCompetencybased', 'nCurrent', 'nDiscover', 'nEvery', 'nFor', 'nGain', 'nGraduate', 'nHave', 'nHeres', 'nIT', 'nIf', 'nIn', 'nInstilling', 'nLow', 'nMany', 'nNo', 'nNursing', 'nOnce', 'nOur', 'nOut', 'nOver', 'nPositions', 'nProfessional', 'nPrograms', 'nReady', 'nSalt', 'nSept', 'nSo', 'nSometimes', 'nStudents', 'nSuccess', 'nThe', 'nThere', 'nThis', 'nTo', 'nUnfortunately', 'nUnlike', 'nWGU', 'nWGUs', 'nWe', 'nWestern', 'nWhether', 'nWhile', 'nWhite', 'nWith', 'nYet', 'nYour', 'name', 'named', 'namedrop', 'naming', 'nanodegree', 'nap', 'narrow', 'nation', 'nationGeorgia', 'national', 'nationally', 'nations', 'nationwide', 'nationwideThe', 'nationwideThis', 'native', 'natural', 'nature', 'navigate', 'navigatenWorkers', 'navigators', 'nd', 'near', 'nearby', 'nearer', 'nearing', 'nearly', 'neat', 'necessarily', 'necessary', 'necessaryEven', 'necessaryFor', 'necessitates', 'necessity', 'need', 'needContact', 'needStart', 'needed', 'neededA', 'needing', 'neednAcross', 'neednContact', 'neednDiscover', 'neednHere', 'neednnTechnology', 'needs', 'needsOver', 'needsReady', 'needsThe', 'needsnnSpecial', 'needsxa', 'needxa', 'negotiate', 'negotiating', 'negotiation', 'negotiationDiscomfort', 'negotiations', 'negotiationsFor', 'neighborhoods', 'neighbors', 'neither', 'nenrich', 'nervewracking', 'nervous', 'network', 'networking', 'networks', 'networksAccording', 'networksDiscover', 'neurocognitive', 'never', 'neverending', 'new', 'newcomer', 'newcomers', 'newest', 'news', 'newsletter', 'next', 'nextBecause', 'nice', 'niche', 'night', 'nights', 'nimble', 'nine', 'nineIf', 'ninefold', 'ninth', 'nlives', 'nnAccording', 'nnAnother', 'nnAs', 'nnElectronic', 'nnGood', 'nnHowever', 'nnInstructional', 'nnOf', 'nnThe', 'nnThis', 'nobody', 'nocturnal', 'noise', 'noises', 'nonEnglishspeaking', 'nonHispanicxa', 'nonclinical', 'none', 'nonexistent', 'nongovernment', 'nongovernmental', 'nonhealthcare', 'nonnative', 'nonpaymentNOTE', 'nonprofit', 'nonprofits', 'nonrefundable', 'nonspecialeducation', 'nonteaching', 'nontechnical', 'nontraditional', 'norm', 'normal', 'normalChronic', 'normally', 'notCollege', 'notably', 'note', 'notes', 'notexa', 'nothing', 'notice', 'noticed', 'notification', 'noting', 'notnWGUs', 'notxa', 'novelist', 'nowCollege', 'nowPractically', 'nowThere', 'noxa', 'nrepresentative', 'ntranscriptinfowguedunnLearn', 'nuggets', 'number', 'numbers', 'numerical', 'numerous', 'nurse', 'nurseThese', 'nursenThere', 'nurses', 'nursesAlready', 'nursesIt', 'nursesNeed', 'nursesNursing', 'nursesThis', 'nursesnThe', 'nursexa', 'nursing', 'nursingn', 'nursingxa', 'nurture', 'nutrients', 'nutrition', 'nutritional', 'nuts', 'nutshell', 'nxa', 'obesity', 'objectives', 'objectivesAccrediting', 'obligations', 'obscurity', 'observation', 'observe', 'observes', 'obstacles', 'obstetrics', 'obtain', 'obtainA', 'obtainThexa', 'obtained', 'obtaining', 'obvious', 'occasion', 'occasional', 'occasions', 'occupation', 'occupationDedicated', 'occupationFor', 'occupational', 'occupations', 'occupationsAccording', 'occupationsSome', 'occupationsWGU', 'occupationsYou', 'occupationsnDiscover', 'occupationsnInformation', 'occupationsnnDuring', 'occupationsnnThere', 'occupied', 'occur', 'occurs', 'ocean', 'oceanographers', 'oceanography', 'odd', 'odds', 'offHigh', 'offcourse', 'offer', 'offered', 'offering', 'offerings', 'offeringsxa', 'offers', 'offerxa', 'office', 'officebased', 'officer', 'offices', 'official', 'officially', 'officials', 'offnnIf', 'offset', 'ofnonlinelearning', 'often', 'oftentimes', 'oftentimesxa', 'oftenunpredictable', 'ofxa', 'oil', 'oils', 'old', 'older', 'omega', 'onboarding', 'oncall', 'oncology', 'ondemand', 'one', 'oneAs', 'oneDiscover', 'oneNursing', 'oneThe', 'oneYou', 'onenDiscover', 'onenThere', 'oneofakind', 'oneonone', 'onequarter', 'ones', 'onethird', 'onetime', 'oneweek', 'ongoing', 'online', 'onlineBachelor', 'onlinelearning', 'onlinexa', 'onlyAs', 'onnnYour', 'onslaught', 'onthejob', 'onto', 'onxa', 'open', 'opened', 'openended', 'opening', 'openings', 'openingsWe', 'openingsxa', 'opens', 'operate', 'operates', 'operating', 'operation', 'operational', 'operations', 'opportunities', 'opportunitiesA', 'opportunitiesAccording', 'opportunitiesELL', 'opportunitiesEmployment', 'opportunitiesIn', 'opportunitiesLearn', 'opportunitiesNurse', 'opportunitiesNursing', 'opportunitiesWGU', 'opportunitiesnThe', 'opportunitiesnTheres', 'opportunitiesnnOnce', 'opportunitiesnnThe', 'opportunitiesxa', 'opportunity', 'opportunityfocused', 'opportunityxa', 'opt', 'optics', 'optimize', 'optimum', 'opting', 'option', 'optionWestern', 'options', 'optionsIf', 'optionsYou', 'optionsnIT', 'optionsnMost', 'optionsnPositions', 'optionsnnOur', 'optionsxa', 'order', 'ordered', 'ordering', 'orders', 'organic', 'organisms', 'organization', 'organizationHealth', 'organizationReady', 'organizationWGU', 'organizationWhichever', 'organizational', 'organizationnnClassroom', 'organizations', 'organizationsProblemsolving', 'organizationsThis', 'organizationsnHighly', 'organizationsnIf', 'organizationsxa', 'organize', 'organized', 'organs', 'orientation', 'origin', 'originally', 'origination', 'origins', 'orxa', 'otherBiology', 'otherThis', 'others', 'othersCurricular', 'othersEffective', 'otherwise', 'otherxa', 'ouch', 'ourxa', 'outcome', 'outcomebased', 'outcomedriven', 'outcomefocused', 'outcomes', 'outcomesCompare', 'outcomesnThe', 'outcomesnThis', 'outcomesoriented', 'outcomesxa', 'outdated', 'outdoor', 'outdoors', 'outlined', 'outlook', 'outnGig', 'outpace', 'outpaced', 'outpaces', 'outpacing', 'outpatient', 'outputs', 'outs', 'outside', 'outstanding', 'outward', 'oven', 'overA', 'overAcute', 'overall', 'overallxa', 'overcome', 'overdo', 'overlook', 'overnight', 'oversaturated', 'overseas', 'oversee', 'overseeing', 'oversight', 'overstuffed', 'overthecounter', 'overtime', 'overwhelmed', 'overwhelming', 'overwhelmingly', 'overxa', 'owe', 'owl', 'owlets', 'owls', 'ownAs', 'ownThis', 'owner', 'owners', 'ownership', 'owning', 'oxygen', 'pace', 'pacing', 'package', 'packages', 'packed', 'packs', 'pad', 'page', 'pageAt', 'pageBelow', 'paid', 'paidxa', 'pain', 'painBecause', 'painHeadaches', 'pair', 'paired', 'pajamas', 'panic', 'paper', 'papers', 'papersIf', 'papersOnce', 'paperwork', 'paperworkGig', 'paperworkNamed', 'par', 'paraeducator', 'paraprofessional', 'parent', 'parents', 'park', 'parking', 'parliamentI', 'part', 'participant', 'participate', 'participating', 'participation', 'particular', 'particularly', 'particularnnThe', 'parties', 'partner', 'partnered', 'partners', 'partnership', 'parts', 'parttime', 'pass', 'passed', 'passing', 'passingxa', 'passion', 'passionate', 'passions', 'password', 'past', 'pastries', 'path', 'pathBack', 'pathSo', 'pathThe', 'paths', 'pathway', 'patience', 'patient', 'patientcentered', 'patientclient', 'patients', 'patientsThere', 'patientsnBut', 'patterns', 'pave', 'pay', 'payTeachers', 'payThere', 'paycheck', 'paychecks', 'paying', 'payment', 'paymentnIf', 'payments', 'payroll', 'pays', 'pediatric', 'pediatrics', 'peer', 'peers', 'penchant', 'penciled', 'penetration', 'people', 'peoplerelated', 'per', 'perceive', 'percent', 'percentGiven', 'percentage', 'perch', 'perfect', 'perfectly', 'perform', 'performance', 'performanceThe', 'performed', 'performersn', 'performing', 'perhaps', 'period', 'periodically', 'perk', 'perks', 'permanent', 'permission', 'peroxide', 'perpetually', 'persistence', 'person', 'personal', 'personality', 'personalized', 'personalizedFaculty', 'personally', 'personnel', 'personnelxa', 'perspective', 'perspectiveThis', 'perspectives', 'perterm', 'pertinent', 'pharmaceutical', 'phase', 'philosophy', 'phone', 'phones', 'phrase', 'physical', 'physically', 'physician', 'physicians', 'physiciansSpecialized', 'physiciansThe', 'physicists', 'physics', 'physicsSchool', 'physicsThe', 'physicsWith', 'physicsnThe', 'physiological', 'physiology', 'pick', 'picked', 'picking', 'picture', 'piece', 'pieces', 'pilchards', 'piloted', 'pioneer', 'pioneered', 'pique', 'piqued', 'piquing', 'pizza', 'place', 'placed', 'placement', 'places', 'placesxa', 'placexa', 'placing', 'plain', 'plan', 'planThis', 'plannedout', 'planning', 'plans', 'plansScheduling', 'plansnnYour', 'plant', 'plants', 'platform', 'platforms', 'play', 'played', 'player', 'playing', 'playlist', 'plays', 'please', 'plentiful', 'plenty', 'plucked', 'plunge', 'plus', 'pm', 'pocket', 'pocketbook', 'point', 'pointofcare', 'points', 'policies', 'policiesBy', 'policiesnBy', 'policiesnWGUs', 'policy', 'policyStudents', 'policyThe', 'policyxa', 'polish', 'polished', 'polishing', 'polite', 'political', 'politics', 'polled', 'pool', 'poor', 'popped', 'popular', 'population', 'populations', 'populationsIn', 'populationsJobs', 'populationsReady', 'populationsRegistered', 'populationsThat', 'populationsxa', 'popup', 'porch', 'portable', 'portal', 'portfolio', 'portion', 'portrayals', 'position', 'positionBeyond', 'positionTime', 'positioned', 'positioning', 'positionnWGUs', 'positions', 'positionsAs', 'positionsDedicated', 'positionsIncreasingly', 'positionsPositions', 'positionsSo', 'positionsThis', 'positionsnDedicated', 'positionsnExperienced', 'positionsnGiven', 'positionsnPositions', 'positionsnProjected', 'positionsnWGU', 'positive', 'positively', 'possess', 'possessing', 'possession', 'possibilities', 'possibility', 'possible', 'possibleEducation', 'possiblexa', 'possibly', 'post', 'postbaccalaureate', 'postbaccaulareate', 'posted', 'postgraduate', 'postgraduation', 'postings', 'postlicensure', 'postsecondary', 'potassium', 'potential', 'potentially', 'potentialnnThe', 'povertyChronic', 'power', 'powerful', 'practical', 'practicalnFocusednAs', 'practice', 'practicenIn', 'practices', 'practicing', 'practicum', 'practitioners', 'praise', 'praised', 'preK', 'preapproved', 'preapred', 'precalculus', 'preclinical', 'predictable', 'predicting', 'predictor', 'predicts', 'predominant', 'preenrollment', 'prefer', 'preferably', 'preference', 'preferred', 'prekindergarten', 'prelicensure', 'premium', 'premiumsAccording', 'premiumsIts', 'prenursing', 'prep', 'preparation', 'preparationnThe', 'preparatory', 'prepare', 'prepared', 'prepares', 'preparing', 'prerequisite', 'prerequisites', 'preschool', 'prescribed', 'present', 'presentation', 'presentationnnIn', 'presentations', 'presented', 'presents', 'preservationnIt', 'preserve', 'president', 'pressure', 'pressures', 'prestige', 'prestigious', 'pretty', 'prevent', 'preventing', 'prevention', 'prevents', 'previous', 'previously', 'price', 'prices', 'pricing', 'pride', 'primarily', 'primary', 'prime', 'principal', 'principals', 'principalsJob', 'principalxa', 'principle', 'principles', 'principlesThe', 'principlesTo', 'principlesxa', 'prior', 'prioritize', 'priority', 'pristine', 'privacy', 'private', 'privateThe', 'pro', 'proactively', 'probably', 'problem', 'problemThe', 'problems', 'problemsnnMath', 'problemsolvers', 'problemsolving', 'problemsxa', 'problemxa', 'procedure', 'procedures', 'proceduresMost', 'proceed', 'proceeds', 'process', 'processA', 'processIf', 'processLearn', 'processSpeak', 'processThe', 'processed', 'processedTranscripts', 'processednTranscripts', 'processes', 'processesEarth', 'processesThe', 'processxa', 'proctors', 'produce', 'producer', 'producing', 'product', 'productive', 'productiveBusinesses', 'productiveMost', 'productiveOur', 'productively', 'productivity', 'products', 'profession', 'professionFind', 'professionMany', 'professionThere', 'professional', 'professionalIn', 'professionalTo', 'professionalWGU', 'professionalism', 'professionally', 'professionals', 'professionalsIf', 'professionalsThere', 'professionalsnAxa', 'professionalsnOnce', 'professionalsnPositions', 'professionalsnSeniorlevel', 'professionalsxa', 'professions', 'professionxa', 'professor', 'professors', 'proficiency', 'proficient', 'profile', 'profileHow', 'profit', 'profitable', 'profitably', 'profound', 'prognosis', 'program', 'programAn', 'programAnxa', 'programCompare', 'programIt', 'programLearn', 'programMany', 'programNOTE', 'programORIf', 'programOfficial', 'programStudents', 'programSubmission', 'programThat', 'programThe', 'programUltimately', 'programWGU', 'programWGUs', 'programand', 'programmatic', 'programmer', 'programmers', 'programming', 'programnIn', 'programnLow', 'programnOur', 'programnThat', 'programnThe', 'programnTo', 'programnWGU', 'programnWGUs', 'programnYour', 'programnn', 'programnnORnnIf', 'programnnSubjectmatter', 'programnnWGU', 'programs', 'programsAll', 'programsAmanda', 'programsAnother', 'programsBack', 'programsEstimates', 'programsThat', 'programsThe', 'programsnAll', 'programsnBack', 'programsnBecause', 'programsnEach', 'programsnEstimates', 'programsnOfficial', 'programsnThe', 'programsnYour', 'programspecific', 'programsxa', 'programxa', 'progress', 'progressing', 'project', 'projected', 'projects', 'projectsClick', 'prologue', 'prominence', 'promise', 'promising', 'promote', 'promoteAttending', 'promoted', 'promotes', 'promotion', 'promotionCareers', 'promotionIn', 'promotionnAccording', 'promotions', 'prompted', 'promptly', 'prone', 'proof', 'propel', 'propensity', 'proper', 'properlyWGU', 'properties', 'proposals', 'propose', 'pros', 'prospect', 'prospective', 'prospects', 'prospectsGiven', 'prospectsnA', 'prospectsnWGU', 'prospectsnnThe', 'prosperous', 'protagonists', 'protect', 'protecting', 'protection', 'protector', 'protocols', 'proud', 'proudly', 'prove', 'proven', 'proves', 'provide', 'provided', 'provider', 'providers', 'provides', 'providing', 'proving', 'provisionally', 'prowess', 'psychiatricmental', 'psychoeducational', 'psychology', 'public', 'published', 'pull', 'pulling', 'pulse', 'pumpkin', 'pumps', 'pumpsxa', 'purchasing', 'purpose', 'purposeful', 'purposes', 'pursue', 'pursueEvery', 'pursueMany', 'pursuePositions', 'pursued', 'pursuing', 'pursuit', 'pursuits', 'pursuitsEarning', 'pursuitsnnIn', 'push', 'pushed', 'pushing', 'pushy', 'put', 'puts', 'putting', 'qualification', 'qualifications', 'qualificationsHealth', 'qualificationsThe', 'qualificationsnA', 'qualificationsnWith', 'qualified', 'qualify', 'qualifying', 'qualities', 'quality', 'quantitative', 'quarter', 'quarterly', 'quench', 'quest', 'questThe', 'question', 'questions', 'questionsIf', 'questionsThe', 'questionsTo', 'quick', 'quickSince', 'quicker', 'quickly', 'quicklySimilarly', 'quicklyn', 'quicklyxa', 'quickstudy', 'quiet', 'quite', 'quitting', 'quiz', 'quizzes', 'quo', 'r', 'race', 'radicals', 'raise', 'raised', 'raisenDo', 'raises', 'ran', 'range', 'ranges', 'ranging', 'rank', 'ranked', 'ranks', 'ransom', 'rapid', 'rapidly', 'rare', 'rarely', 'rashes', 'rate', 'rated', 'rates', 'ratesCareers', 'rather', 'ratings', 'ratingsxa', 'ratio', 'ratios', 'ratiosAccording', 'ratiosWGU', 'raw', 'reach', 'reached', 'reaches', 'reaching', 'react', 'reaction', 'read', 'readily', 'readiness', 'reading', 'readmission', 'readmitted', 'reads', 'ready', 'real', 'realistic', 'realities', 'reality', 'realization', 'realize', 'reallife', 'really', 'realm', 'realtime', 'realworld', 'realworldxa', 'reap', 'rearrange', 'rearranging', 'reason', 'reasonable', 'reasoning', 'reasons', 'reasonsReadmitted', 'reasonsWisdomIf', 'reasonsnCompetencybased', 'reassures', 'recalls', 'receipt', 'receive', 'received', 'receives', 'receiving', 'recent', 'recently', 'recipient', 'recipients', 'reciprocity', 'recognition', 'recognitionnThe', 'recognitions', 'recognize', 'recognized', 'recognizedProgram', 'recognizednWGU', 'recognizes', 'recognizing', 'recommend', 'recommendations', 'recommended', 'recommends', 'record', 'records', 'recoup', 'recovery', 'recoveryPositions', 'recoveryStress', 'recoveryToo', 'recoveryxa', 'recruit', 'recruited', 'recruiters', 'recruiting', 'recruitment', 'red', 'redhot', 'reduce', 'reduced', 'reducedOur', 'reduces', 'reducing', 'reenroll', 'reentry', 'refer', 'reference', 'references', 'referred', 'reflected', 'reflects', 'refocus', 'reform', 'refugee', 'refugees', 'regard', 'regarded', 'regarding', 'regardless', 'region', 'regionJob', 'regional', 'regionally', 'regions', 'registered', 'registerednBefore', 'regular', 'regularly', 'regulation', 'regulations', 'regulationsThe', 'regulatory', 'reimbursement', 'reimbursementA', 'reimbursementTeaching', 'reining', 'reins', 'relate', 'related', 'relates', 'relations', 'relationship', 'relationships', 'relatively', 'relativity', 'relaxed', 'relaxednWhole', 'relay', 'relearning', 'release', 'released', 'relevance', 'relevancy', 'relevant', 'relevantA', 'relevantThere', 'reliable', 'relicensure', 'relief', 'relies', 'religion', 'religious', 'relocation', 'rely', 'remain', 'remains', 'remarkable', 'remarkably', 'remember', 'remind', 'reminders', 'remote', 'remotelyStock', 'remove', 'removed', 'removes', 'removing', 'renegotiate', 'renew', 'renewable', 'renting', 'repaidYou', 'repair', 'repairing', 'repay', 'repayment', 'repeat', 'repeatedly', 'repercussions', 'repetitive', 'replace', 'replacement', 'replicateWhat', 'report', 'reported', 'reporting', 'reportnWhen', 'reports', 'represent', 'representatives', 'represents', 'reprieves', 'reproduce', 'reproduces', 'reputable', 'reputation', 'reputations', 'request', 'requested', 'requesting', 'requestingTalk', 'require', 'required', 'requirednSome', 'requirednStudents', 'requirednThe', 'requirement', 'requirementOur', 'requirements', 'requirementsBrittany', 'requirementsCollege', 'requirementsCompleting', 'requirementsHere', 'requirementsLearn', 'requirementsNSSE', 'requirementsState', 'requirementsStudents', 'requirementsTeachers', 'requirementsThe', 'requirementsn', 'requirementsnConnie', 'requirementsnFrom', 'requirementsnThe', 'requirementsxa', 'requires', 'requiring', 'reread', 'research', 'researchbased', 'researched', 'researchers', 'researching', 'researchxa', 'reserved', 'reservedn', 'reservednOur', 'residencexa', 'residential', 'residents', 'resiliency', 'resolution', 'resolve', 'resolved', 'resonate', 'resource', 'resources', 'respect', 'respectable', 'respected', 'respectedxa', 'respectful', 'respective', 'respiration', 'respiratory', 'respond', 'responded', 'responding', 'responds', 'response', 'responseResearcher', 'responsesxa', 'responsibilities', 'responsibilitiesIf', 'responsibilitiesn', 'responsibilitiesxa', 'responsibility', 'responsible', 'responsibly', 'rest', 'restart', 'restaurant', 'restricted', 'result', 'resulted', 'resulting', 'results', 'resume', 'resumes', 'resuming', 'retailers', 'retain', 'retention', 'rethinking', 'retire', 'retired', 'retirement', 'retirementThat', 'retirementxa', 'retiring', 'retrieval', 'retrieve', 'return', 'returned', 'returning', 'reveal', 'revealed', 'revenue', 'reverse', 'review', 'reviewed', 'reviewers', 'reviewing', 'reviews', 'revolutionized', 'reward', 'rewarding', 'rewardingMastering', 'rewardingWGU', 'rewards', 'rexa', 'rhythm', 'rich', 'richer', 'riding', 'rifling', 'right', 'rightLearning', 'rights', 'rigid', 'rigorous', 'rigors', 'ripe', 'ripple', 'rise', 'risen', 'rises', 'rising', 'risk', 'riskIf', 'riskPhysics', 'riskThe', 'risknnYou', 'risksxa', 'road', 'roadEncounter', 'roadblocks', 'robotics', 'robust', 'robustPositions', 'robustThe', 'rock', 'rocket', 'role', 'roleIf', 'roleOur', 'rolennIf', 'roles', 'rolesHuman', 'rolesIn', 'rolesPublic', 'rolesThanks', 'rolesWhile', 'roller', 'room', 'roomSeeing', 'roomful', 'roommate', 'roommates', 'rooms', 'rose', 'rotation', 'rotations', 'roughly', 'round', 'route', 'routine', 'row', 'rubbing', 'rubric', 'rule', 'rules', 'rummage', 'run', 'running', 'runs', 'rural', 'rush', 'rushing', 'sacrifice', 'sacrificing', 'safe', 'safeguard', 'safely', 'safety', 'safetySo', 'sagacity', 'said', 'salaries', 'salariesBy', 'salariesIn', 'salariesSouth', 'salariesWondering', 'salariesnPublic', 'salariesnSalaries', 'salariesnThanks', 'salariesnWondering', 'salary', 'salaryIts', 'salaryThis', 'salarycom', 'sales', 'salmon', 'sardines', 'satisfaction', 'satisfactionAccording', 'satisfactionGenerally', 'satisfactionIf', 'satisfactionNot', 'satisfactionReady', 'satisfactionTeaching', 'satisfactionThe', 'satisfactionnCareers', 'satisfactionnFind', 'satisfied', 'satisfies', 'satisfy', 'satisfying', 'saturations', 'save', 'saved', 'saves', 'saving', 'savings', 'savvy', 'saw', 'say', 'saying', 'says', 'saysMelanie', 'saysStudents', 'scalable', 'scale', 'scam', 'scams', 'scares', 'scary', 'scattered', 'scenarios', 'scenariosThrough', 'scenes', 'schedule', 'scheduleAlready', 'scheduleDegrees', 'scheduleYou', 'scheduled', 'schedulenIn', 'schedules', 'schedulesnMany', 'schedulexa', 'scheduling', 'scholars', 'scholarship', 'scholarships', 'scholarshipsWGU', 'scholarshipsnAt', 'scholarshipsnWGU', 'scholarshipsxa', 'school', 'schoolAccording', 'schoolAfter', 'schoolNot', 'schoolOverall', 'schoolTeaching', 'schoolThe', 'schoolThese', 'schoolWe', 'schoolYou', 'schoolage', 'schooling', 'schooljunior', 'schoolnBy', 'schoolnThe', 'schoolnThis', 'schoolnnIf', 'schoolrelated', 'schools', 'schoolsBy', 'schoolsEstimates', 'schoolsUltimately', 'schoolsnnLow', 'schoolsnnThe', 'schoolspecific', 'schoolsxa', 'schoolwork', 'schoolworkFor', 'schoolxa', 'science', 'scienceConsider', 'sciencecentric', 'sciencenBy', 'sciences', 'scientific', 'scientist', 'scientistA', 'scientists', 'scope', 'scores', 'scratchYou', 'screen', 'screenIf', 'screening', 'scripting', 'scripts', 'scrutiny', 'sea', 'sealed', 'seamless', 'seamlessly', 'search', 'searchAccording', 'searchBefore', 'searchIf', 'searchTeachers', 'searchTodays', 'searchWhether', 'searching', 'season', 'seasoned', 'seat', 'seattime', 'second', 'secondary', 'secondarygrades', 'seconds', 'secondyear', 'secret', 'section', 'sectionWhen', 'sector', 'sectorEducational', 'sectorThe', 'sectors', 'secular', 'secure', 'securely', 'securing', 'securities', 'security', 'securityAccording', 'securityRead', 'securityfocused', 'securitynBy', 'securitynEarning', 'securitynThis', 'securityrelated', 'securityxa', 'see', 'seeds', 'seeing', 'seeingBack', 'seeingBefore', 'seek', 'seekers', 'seeking', 'seeks', 'seem', 'seeming', 'seemingly', 'seems', 'seen', 'segment', 'seized', 'seizures', 'select', 'selected', 'selecting', 'selective', 'selfassessment', 'selfawareness', 'selfevaluate', 'selfmotivationWhat', 'selfpaced', 'selfpacing', 'selfpumps', 'selfservice', 'selfstarters', 'sell', 'selves', 'semester', 'semesters', 'semestersxa', 'seminar', 'send', 'sending', 'senior', 'seniority', 'seniorlevel', 'sense', 'senses', 'sensitive', 'sent', 'sentence', 'separate', 'separately', 'separation', 'sequence', 'series', 'serious', 'seriously', 'serve', 'serveWhile', 'served', 'server', 'servernetwork', 'serves', 'service', 'serviceperson', 'servicepersons', 'services', 'servicesIn', 'servicesThe', 'servicesYour', 'servicesnDiscover', 'servicesnThe', 'servicesnnIf', 'servicesxa', 'serving', 'session', 'sessions', 'set', 'setMany', 'setWGU', 'sets', 'setsWhat', 'setting', 'settingBy', 'settingInterested', 'settingOnce', 'settingReady', 'settingTeaching', 'settingnnConduct', 'settingnnCrunch', 'settingnnThink', 'settings', 'settingsIn', 'settingsOnce', 'settingsThere', 'settingsWhere', 'settingsnIf', 'settingsnNursing', 'settingsnPositions', 'settingsnReady', 'settingsnRegistered', 'settingsnTeaching', 'settingsnThe', 'setup', 'seven', 'sevenstate', 'several', 'severe', 'shaky', 'shape', 'shaping', 'share', 'shared', 'shareholdersxa', 'sharing', 'sharingA', 'sharingThe', 'sharks', 'sharp', 'sharpen', 'sharpening', 'sharply', 'shes', 'shift', 'shifts', 'ship', 'shipping', 'shop', 'short', 'shortage', 'shortages', 'shortagesSo', 'shorter', 'shortfallCalifornia', 'shortly', 'shoulders', 'shouldnt', 'show', 'showBeyond', 'showcase', 'showcases', 'showcasing', 'showed', 'showing', 'shown', 'shows', 'shy', 'sick', 'sickness', 'side', 'sidebyside', 'sides', 'sights', 'sightxa', 'sign', 'signed', 'significant', 'significantly', 'signing', 'signs', 'silence', 'silly', 'similar', 'simple', 'simplifying', 'simply', 'simulate', 'simulation', 'simulations', 'simultaneously', 'since', 'single', 'siphon', 'sit', 'site', 'sites', 'sitesQuite', 'sitesn', 'sitting', 'situation', 'situationThe', 'situational', 'situationnSimilarly', 'situations', 'six', 'sixmonth', 'sixth', 'sizable', 'size', 'sizes', 'sizesThere', 'skill', 'skilled', 'skillful', 'skillfully', 'skills', 'skillsAn', 'skillsBut', 'skillsReady', 'skillsTo', 'skillsWGU', 'skillset', 'skillsets', 'skillsnnCurrently', 'sky', 'skyrocketing', 'skys', 'sleep', 'sleepy', 'slevel', 'slightly', 'slogans', 'slowdown', 'slower', 'slowing', 'slowly', 'slowlyThere', 'small', 'smaller', 'smallest', 'smart', 'smarter', 'smartest', 'smartphone', 'smarts', 'smells', 'smoothly', 'snack', 'snacks', 'sneak', 'snoring', 'soBack', 'soNCTQ', 'soaring', 'social', 'socialize', 'societally', 'society', 'societyAccording', 'societyCareer', 'societyIn', 'societyTeaching', 'societyWGU', 'societys', 'sociolinguistics', 'soft', 'software', 'softwaredriven', 'solid', 'solitary', 'solution', 'solutionAccording', 'solutionOur', 'solutions', 'solve', 'solved', 'solver', 'solvers', 'solving', 'solvingnnThere', 'someone', 'something', 'sometimes', 'somewhat', 'somewhere', 'soon', 'sooner', 'soonerWGU', 'soonernOnce', 'soontobe', 'sophisticated', 'sophistication', 'sort', 'sought', 'soughtAdvancement', 'soughtafter', 'soul', 'sound', 'soundness', 'sounds', 'source', 'sources', 'sourcing', 'soxa', 'soybean', 'space', 'span', 'spandex', 'spark', 'sparking', 'speak', 'speakers', 'speaking', 'special', 'specialed', 'specialeducation', 'specialist', 'specialistAlready', 'specialistWith', 'specialists', 'specialistsThe', 'specialistsYou', 'specialistsxa', 'specialization', 'specialize', 'specialized', 'specializedxa', 'specializes', 'specializing', 'specialneeds', 'specialties', 'specialty', 'specific', 'specifically', 'specifications', 'specifics', 'specificxa', 'spectrum', 'speed', 'spells', 'spend', 'spending', 'spent', 'spentIn', 'spentThis', 'spentnThis', 'spentxa', 'spikes', 'spills', 'spin', 'spinach', 'spinning', 'spirit', 'spoiled', 'spoke', 'spoken', 'spoonful', 'sports', 'spot', 'spotlight', 'spots', 'spouses', 'spousesWGU', 'spreading', 'spreadsheets', 'sprepared', 'spring', 'springboard', 'spur', 'square', 'squeeze', 'squeezing', 'squinting', 'squirming', 'st', 'stability', 'stabilityThe', 'stabilityWGU', 'stable', 'stacks', 'staff', 'staffMost', 'staffing', 'staffnnIts', 'stage', 'stages', 'stand', 'standard', 'standardAccreditation', 'standardized', 'standards', 'standardsAre', 'standardsHighly', 'standardsReady', 'standardsThe', 'standardsWorking', 'standing', 'stands', 'stark', 'start', 'startAlready', 'startInformation', 'startReady', 'startTaking', 'startWe', 'started', 'startedAcross', 'startedBuilding', 'startedELL', 'startedEarning', 'startedIf', 'startedReady', 'startedSpecialized', 'startedn', 'startednReady', 'startednThis', 'startedxa', 'starting', 'startling', 'startnnCurriculums', 'starts', 'startup', 'startups', 'startxa', 'stat', 'state', 'stateEligibility', 'stateLooking', 'stateThe', 'stateThis', 'stated', 'stateissued', 'statements', 'statenEarning', 'statenWGUs', 'statennA', 'states', 'statesAs', 'statesIf', 'statesThe', 'statesWhile', 'statesnStudents', 'statesnThis', 'statesnTo', 'statespecific', 'statesxa', 'statewide', 'statexa', 'static', 'stating', 'stationed', 'statistic', 'statistical', 'statisticians', 'statistics', 'statisticsxa', 'stats', 'status', 'statusxa', 'stave', 'stay', 'staying', 'steadier', 'steadily', 'steady', 'steadyThexa', 'steadyWGU', 'stealing', 'steer', 'step', 'stepContact', 'stepbystep', 'steppingstone', 'steps', 'stepsCurrent', 'stepsWhen', 'stethoscope', 'stick', 'sticking', 'still', 'stock', 'stomach', 'stomachHeightened', 'stop', 'stops', 'storage', 'store', 'stored', 'stories', 'storm', 'story', 'straight', 'straightbacked', 'straightforwardClick', 'straining', 'strangers', 'strategic', 'strategies', 'strategiesxa', 'strategists', 'strategy', 'stratospherexa', 'strawberries', 'stream', 'streamlining', 'strength', 'strengthen', 'strengthening', 'strengths', 'stress', 'stressAccording', 'stressed', 'stresses', 'stressful', 'stressor', 'stressors', 'stretch', 'strict', 'stricter', 'striving', 'stroke', 'strong', 'strongest', 'strongly', 'structural', 'structure', 'structured', 'structures', 'struggle', 'struggling', 'stuck', 'student', 'studentA', 'studentNeed', 'studentTime', 'studentfocused', 'studentloansgov', 'studentloansgovYou', 'studentnnFrom', 'studentobsessed', 'students', 'studentsA', 'studentsAn', 'studentsBased', 'studentsBy', 'studentsClassroom', 'studentsGeneral', 'studentsIf', 'studentsIn', 'studentsNo', 'studentsOur', 'studentsRead', 'studentsScholarships', 'studentsSchool', 'studentsTeaching', 'studentsTo', 'studentsn', 'studentsnBy', 'studentsnIt', 'studentsnTo', 'studentsxa', 'studentteacher', 'studenttofaculty', 'studied', 'studies', 'study', 'studyWGU', 'studying', 'studyingThe', 'studyingWhen', 'studyxa', 'stuff', 'stuffEvery', 'stuffnEvery', 'stuffxa', 'stuffy', 'style', 'styles', 'stylesBy', 'subdomain', 'subject', 'subjectmatter', 'subjects', 'subjectsdisciplines', 'subjectspecific', 'subjectsxa', 'submission', 'submit', 'submitted', 'submitting', 'subsidiariesnCareers', 'subsidiariesnWhether', 'subsidiary', 'subsidize', 'subsidized', 'substantial', 'substantive', 'substitute', 'subsystems', 'subtraction', 'suburb', 'suburban', 'suburbs', 'succeed', 'succeedxa', 'success', 'successAbout', 'successAccess', 'successAs', 'successChoosing', 'successCommunityFun', 'successIf', 'successLearn', 'successMany', 'successMarket', 'successOur', 'successSo', 'successTo', 'successWGU', 'successes', 'successful', 'successfulCompetencybased', 'successfulOrganizations', 'successfully', 'successnNSSE', 'successnRead', 'successnnAt', 'successxa', 'succinct', 'suddenly', 'suffer', 'sufferers', 'suffers', 'sufficient', 'sugar', 'sugary', 'suggest', 'suggested', 'suggesting', 'suggestionsExcept', 'suggestionsWGU', 'suggests', 'suicide', 'suit', 'suite', 'suited', 'suits', 'sum', 'summer', 'summerYou', 'summers', 'summertime', 'sundown', 'super', 'superfoods', 'superhero', 'superheroes', 'superintendent', 'superior', 'supervised', 'supervising', 'supervisor', 'supervisorNote', 'supervisornEarning', 'supervisornThis', 'supplement', 'supplemental', 'suppliers', 'supplies', 'suppliesnIf', 'suppliesnPrincipals', 'supply', 'support', 'supportIf', 'supportNursing', 'supported', 'supporting', 'supportive', 'supportnIf', 'supportnThe', 'supportnWGU', 'supports', 'supportxa', 'sure', 'surefire', 'surest', 'surgical', 'surprise', 'surprised', 'surprising', 'surprisingly', 'surrounded', 'surrounding', 'surroundings', 'survey', 'surveyed', 'survival', 'survive', 'suspicious', 'sustain', 'sustainable', 'sustained', 'sweater', 'sweet', 'swing', 'switch', 'switched', 'switching', 'sxa', 'syllabi', 'symbolic', 'symptoms', 'sysadmins', 'system', 'systemWGUs', 'systematic', 'systems', 'systemsConversely', 'systemsEarning', 'systemsThe', 'systemsthinking', 'tIf', 'tab', 'tabIMPORTANT', 'table', 'tableOnline', 'tablets', 'tackle', 'tackling', 'tactical', 'tactics', 'tailored', 'tailoring', 'take', 'taken', 'takes', 'takexa', 'taking', 'talent', 'talented', 'talentnDiscover', 'talentnThe', 'talents', 'talk', 'talking', 'talks', 'tap', 'tapping', 'taps', 'target', 'targeting', 'task', 'tasked', 'tasks', 'tasty', 'taught', 'tax', 'taxes', 'taxesn', 'taxesnSome', 'taxing', 'teach', 'teachA', 'teachEvery', 'teachGraduates', 'teachThe', 'teacher', 'teacherAlready', 'teacherAre', 'teacherAs', 'teacherBreaking', 'teacherBy', 'teacherCurious', 'teacherDo', 'teacherEarning', 'teacherEvery', 'teacherGraduates', 'teacherIf', 'teacherIn', 'teacherMiddle', 'teacherMore', 'teacherObtaining', 'teacherOf', 'teacherPositions', 'teacherTeaching', 'teacherThe', 'teacherThere', 'teacherThis', 'teacherThough', 'teacherWGU', 'teacherWhether', 'teacherWhy', 'teacherWith', 'teachercertification', 'teachernA', 'teachernAccording', 'teachernBack', 'teachernBreaking', 'teachernCrunch', 'teachernMiddle', 'teachernReady', 'teachernScience', 'teachernThe', 'teachernThis', 'teachernWhen', 'teachernWhether', 'teachernnAre', 'teachernnJob', 'teachernnOf', 'teachernnTeaching', 'teachernnThere', 'teacherprep', 'teacherpreparation', 'teachers', 'teachersAs', 'teachersBachelors', 'teachersEligibility', 'teachersFrom', 'teachersHeads', 'teachersIndiana', 'teachersIt', 'teachersMolecules', 'teachersOur', 'teachersQualified', 'teachersReady', 'teachersStarting', 'teachersVirginia', 'teachersWhether', 'teachersWith', 'teachersnThe', 'teachersnnAccording', 'teachersnnIf', 'teachersnnIn', 'teachersnnMaybe', 'teachersxa', 'teacherxa', 'teaches', 'teaching', 'teachingHalf', 'teachingnBreaking', 'teachingnComplete', 'teachingnReady', 'teachingxa', 'teachnAs', 'team', 'teamThe', 'teamn', 'teamnThe', 'teams', 'teamsxa', 'teamwork', 'tears', 'tech', 'techdependent', 'techdriven', 'techie', 'technical', 'technically', 'technicians', 'techniques', 'techniquesnnJob', 'technological', 'technologically', 'technologies', 'technologiesIts', 'technology', 'technologyBy', 'technologyIn', 'technologySee', 'technologyWith', 'technologydependent', 'technologydriven', 'technologynBy', 'technologyrich', 'techsavvy', 'teen', 'teenagers', 'teens', 'telecommunications', 'telehealth', 'telephone', 'telescope', 'television', 'tell', 'teller', 'telling', 'tells', 'temperament', 'temperature', 'temperatureSometimes', 'templates', 'tempted', 'tend', 'tended', 'tendency', 'tends', 'tenhour', 'tens', 'tension', 'tenure', 'tenured', 'term', 'termIn', 'termThe', 'terminology', 'termn', 'terms', 'termsHasslefree', 'termsNote', 'termsxa', 'termxa', 'territory', 'test', 'testFurther', 'testSo', 'testbased', 'tester', 'testing', 'tests', 'testsAccording', 'testxa', 'textbook', 'textbooks', 'texts', 'th', 'thanks', 'thanxa', 'thatTo', 'thatWGU', 'thatn', 'thats', 'thatxa', 'theater', 'theft', 'themAccording', 'themAs', 'themIn', 'themStudents', 'themThe', 'themThere', 'themWGU', 'themWGUs', 'themWhen', 'themnnAs', 'themnnWith', 'themselvesAutomated', 'themselvesRead', 'thenCongressman', 'theorems', 'theoretical', 'theories', 'theory', 'therapeutic', 'thereAre', 'thereCyber', 'thereIf', 'thereOur', 'thereThe', 'thereby', 'therefore', 'theres', 'thermodynamics', 'thermostat', 'theseWGU', 'thexa', 'theyll', 'theyre', 'thgrade', 'thing', 'things', 'think', 'thinkMany', 'thinkReady', 'thinker', 'thinkersThere', 'thinking', 'thinkn', 'thinknReady', 'third', 'thirdparty', 'thirst', 'thorough', 'though', 'thought', 'thoughtsnnTo', 'thousands', 'threat', 'threaten', 'threats', 'threatsnDiscover', 'threatsnThe', 'three', 'threepart', 'threepronged', 'threeyear', 'thrilling', 'thrive', 'thrives', 'thriving', 'throughnGetting', 'throughout', 'thrust', 'thumb', 'thus', 'ticket', 'ticking', 'tied', 'tight', 'tighter', 'tightly', 'time', 'timeIn', 'timeIts', 'timePTOMore', 'timeThanks', 'timeThe', 'timeframe', 'timeframeCohort', 'timelines', 'timely', 'timenRegistered', 'timenThere', 'timenUtilizing', 'timennExperience', 'timerelated', 'times', 'timesIf', 'timetable', 'timeworking', 'timing', 'tiny', 'tip', 'tips', 'title', 'titles', 'toChoosing', 'toDedicated', 'toMail', 'toPositions', 'today', 'todayAre', 'todayThanks', 'todaynNo', 'todaynnNOTE', 'todays', 'together', 'told', 'tomorrow', 'tomorrows', 'tonWestern', 'tonight', 'tons', 'tontranscriptinfowgueduIf', 'tooTuition', 'took', 'tool', 'tools', 'top', 'topic', 'topics', 'toplevel', 'topnotch', 'topranked', 'toprated', 'toptier', 'toss', 'total', 'totally', 'touch', 'tough', 'toughest', 'toward', 'towards', 'town', 'toxa', 'toxic', 'traced', 'track', 'trackIf', 'tracked', 'tracking', 'tracks', 'trade', 'trademark', 'traditional', 'train', 'trained', 'trainer', 'trainers', 'training', 'trainingYou', 'trainingnIt', 'trainingnRegistered', 'traits', 'trajectory', 'transactions', 'transcript', 'transcripts', 'transcriptsCompletion', 'transcriptsWGU', 'transfer', 'transferability', 'transferable', 'transferout', 'transferrable', 'transferred', 'transferring', 'transfers', 'transform', 'transformation', 'transformational', 'transformative', 'transformed', 'transforming', 'transition', 'transitioned', 'transitioning', 'transitions', 'translate', 'translates', 'translating', 'transmissions', 'transmitting', 'transparent', 'travel', 'traveling', 'tray', 'treatWhen', 'treated', 'treatment', 'treatmentWhether', 'tremendous', 'tremendously', 'trend', 'trendThe', 'trending', 'trends', 'trick', 'tricky', 'trident', 'tried', 'trigger', 'trigonometry', 'trillion', 'trio', 'trouble', 'troubled', 'troubleshoot', 'troubleshooting', 'trout', 'true', 'truly', 'trulyxa', 'try', 'trying', 'tubes', 'tuck', 'tuition', 'tuitionn', 'tuitionnxa', 'tuitionxa', 'tune', 'tuned', 'turn', 'turned', 'turning', 'turnoff', 'turns', 'tutor', 'tutorials', 'tutoring', 'tweens', 'tweets', 'twice', 'twists', 'two', 'twothirds', 'type', 'types', 'typical', 'typically', 'uCertifyn', 'ubiquitous', 'ultimate', 'ultimately', 'unable', 'unacceptable', 'unbearable', 'unbeatable', 'uncertainty', 'uncomfortable', 'uncomfortably', 'uncommon', 'unconventional', 'uncover', 'undergrad', 'undergraduate', 'undergraduates', 'underlying', 'underperform', 'understand', 'understandable', 'understanding', 'understands', 'understatement', 'undertake', 'undertaken', 'undertaking', 'unemployed', 'unemployment', 'unencumbered', 'unexpected', 'unfamiliar', 'unfilled', 'unfortunate', 'unified', 'union', 'unionization', 'unions', 'unique', 'unit', 'units', 'unitsRequest', 'unitsThe', 'unitsnThe', 'unitsnnThe', 'unitsxa', 'universal', 'universe', 'universeNote', 'universities', 'universitiesLow', 'universitiesPositions', 'universitiesThe', 'universitiesxa', 'university', 'universityCollege', 'universityThat', 'universitynAn', 'universitynExperience', 'universitynFrom', 'universitys', 'universityxa', 'unknown', 'unknowns', 'unless', 'unlike', 'unnecessary', 'unplanned', 'unpleasant', 'unprecedented', 'unpredictability', 'unpredictable', 'unsubsidized', 'unsure', 'untidy', 'unusual', 'upand', 'upclose', 'upcoming', 'update', 'updated', 'updates', 'updating', 'uphold', 'upon', 'upper', 'upperlevel', 'upping', 'upsetting', 'upside', 'upsidexa', 'uptodate', 'upward', 'upwardly', 'upwards', 'upxa', 'urban', 'urbanized', 'urgency', 'urgent', 'us', 'usable', 'usage', 'use', 'used', 'useful', 'usenOur', 'user', 'username', 'users', 'uses', 'usexa', 'using', 'usually', 'utilize', 'utilized', 'utilizes', 'vacancies', 'vacanciesWith', 'vacant', 'vacation', 'vague', 'valid', 'validate', 'valuable', 'valuablexa', 'value', 'valueBack', 'valuebased', 'valued', 'valuednnThe', 'values', 'variable', 'variation', 'varied', 'varies', 'variesn', 'varieties', 'variety', 'various', 'vary', 'varying', 'varyxa', 'vast', 'veggies', 'vehiclesxa', 'venture', 'verify', 'versatile', 'version', 'versions', 'vet', 'veteran', 'veterans', 'vetted', 'vetting', 'vexa', 'via', 'vice', 'video', 'videochat', 'videos', 'view', 'viewed', 'viewing', 'violations', 'virtual', 'virtually', 'virtualreality', 'viruses', 'vision', 'visit', 'visiting', 'visits', 'visual', 'visualization', 'vital', 'vitals', 'vitamin', 'vocal', 'vocational', 'voice', 'voices', 'void', 'volume', 'vote', 'vulnerability', 'vulnerabilityWe', 'wage', 'wages', 'wagexa', 'wait', 'waiting', 'waive', 'waived', 'waivers', 'waiving', 'waking', 'walk', 'walking', 'wall', 'walls', 'wandering', 'want', 'wantYou', 'wanted', 'wanting', 'wantnMicrosoft', 'wants', 'warning', 'warrior', 'wash', 'waste', 'wasting', 'wasxa', 'watched', 'watching', 'water', 'watercooler', 'waves', 'way', 'wayAn', 'wayOur', 'wayReady', 'wayThe', 'wayThis', 'waynGig', 'waynWhen', 'waynnOf', 'ways', 'waysCertain', 'waysThe', 'waysnnOnce', 'wealth', 'wear', 'wearable', 'wearables', 'wearing', 'weather', 'web', 'webbased', 'webcam', 'webpageAdditional', 'website', 'websiteCapella', 'websiteWalden', 'websites', 'wee', 'week', 'weekIf', 'weekdays', 'weekend', 'weekends', 'weekendsnIn', 'weekendsnManagement', 'weekly', 'weeknAs', 'weeknCareers', 'weeknIT', 'weeknIf', 'weeknIn', 'weeknThere', 'weeks', 'weight', 'weirdly', 'welcome', 'welcoming', 'well', 'wellAccording', 'wellGeoscience', 'wellIs', 'wellIt', 'wellSalary', 'wellToday', 'wellWGU', 'wellWhether', 'wellbeing', 'wellbeingxa', 'wellcrafted', 'welldeveloped', 'wellness', 'wellnessIncreasing', 'wellprepared', 'wellqualified', 'wellrounded', 'wellspent', 'wellspentxa', 'welltrained', 'wellxa', 'went', 'weve', 'wexa', 'whales', 'whatever', 'whats', 'whatxa', 'wheels', 'whenever', 'whereas', 'wherever', 'whether', 'white', 'whole', 'whos', 'whose', 'whys', 'wide', 'widely', 'wider', 'widespread', 'wife', 'wiggle', 'wildlife', 'wildly', 'willing', 'window', 'wins', 'winter', 'winwin', 'wisdom', 'wise', 'wish', 'wishing', 'withdraw', 'withdrawing', 'within', 'without', 'withxa', 'wlab', 'woman', 'women', 'wonder', 'wondered', 'wondering', 'wonders', 'wont', 'word', 'worded', 'words', 'work', 'workAccording', 'workAs', 'workIf', 'workIn', 'workOnce', 'workSo', 'workWe', 'workable', 'workday', 'workdayIndeed', 'worked', 'worker', 'workers', 'workersxa', 'workforce', 'workforcennSignificantly', 'working', 'workings', 'workingxa', 'workload', 'workn', 'worknAdditionally', 'worknOnce', 'worknThere', 'worknnQualified', 'workplace', 'workplaceOf', 'workplaces', 'works', 'worksnOne', 'workstudy', 'workweek', 'workxa', 'world', 'worldclass', 'worldnnIf', 'worlds', 'worldwide', 'worldxa', 'worried', 'worries', 'worry', 'worrying', 'worse', 'worst', 'worth', 'worthUtilize', 'worthynnWith', 'would', 'wow', 'wrangle', 'wrangling', 'wrap', 'wrapping', 'wreak', 'wrestler', 'write', 'writeoff', 'writers', 'writes', 'writing', 'written', 'wwwbenefitsvagovgibillBecause', 'xa', 'year', 'yearAccording', 'yearAs', 'yearThat', 'yearThe', 'yearlong', 'yearly', 'yearnAccounting', 'yearnBut', 'yearnMost', 'yearnThe', 'yearnnEntering', 'yearnnIf', 'yearround', 'yearroundIf', 'yearroundTeachers', 'years', 'yearsDo', 'yearsIn', 'yearsThe', 'yearsThis', 'yearsn', 'yearsnRecipient', 'yearsnWGU', 'yeartosecondyear', 'yearxa', 'yes', 'yesNo', 'yet', 'yetWhether', 'yetnxa', 'yetxa', 'yinyang', 'youA', 'youAccounting', 'youAn', 'youAnxa', 'youAre', 'youDuring', 'youFinancial', 'youFind', 'youIn', 'youInformation', 'youOnce', 'youSee', 'youThe', 'youThere', 'youThousands', 'youWant', 'youWondering', 'youYour', 'youd', 'youll', 'youn', 'younEarly', 'younEarning', 'younFor', 'younIf', 'younManagement', 'younOur', 'younTechnology', 'younThe', 'younWGU', 'younWondering', 'young', 'younger', 'younnSociety', 'younxa', 'youre', 'yourxa', 'youth', 'youthAcross', 'youthAs', 'youthWhether', 'youve', 'youxa', 'zeroing', 'zone', 'zoology']\n"
     ]
    }
   ],
   "source": [
    "# Vectorizing the text\n",
    "from sklearn.feature_extraction.text import CountVectorizer\n",
    "\n",
    "vectorizer = CountVectorizer(analyzer = message_cleaning)\n",
    "df_countvectorizer = vectorizer.fit_transform(df2['Page Content'])\n",
    "print(vectorizer.get_feature_names())"
   ]
  },
  {
   "cell_type": "code",
   "execution_count": 14,
   "metadata": {},
   "outputs": [
    {
     "name": "stdout",
     "output_type": "stream",
     "text": [
      "[[0 0 0 ... 0 1 0]\n",
      " [0 0 0 ... 0 1 0]\n",
      " [0 0 0 ... 0 0 0]\n",
      " ...\n",
      " [0 0 0 ... 0 0 0]\n",
      " [0 0 0 ... 0 0 0]\n",
      " [0 0 0 ... 0 0 0]]\n"
     ]
    }
   ],
   "source": [
    "print(df_countvectorizer.toarray())"
   ]
  },
  {
   "cell_type": "code",
   "execution_count": 15,
   "metadata": {},
   "outputs": [
    {
     "data": {
      "text/plain": [
       "(430, 9150)"
      ]
     },
     "execution_count": 15,
     "metadata": {},
     "output_type": "execute_result"
    }
   ],
   "source": [
    "df_countvectorizer.shape"
   ]
  },
  {
   "cell_type": "markdown",
   "metadata": {},
   "source": [
    "# Splitting Train & Test Sets"
   ]
  },
  {
   "cell_type": "code",
   "execution_count": 23,
   "metadata": {},
   "outputs": [],
   "source": [
    "# labeling the X and y data\n",
    "X = df_countvectorizer\n",
    "y = label"
   ]
  },
  {
   "cell_type": "code",
   "execution_count": 27,
   "metadata": {},
   "outputs": [],
   "source": [
    "# Spliting the training and testing data\n",
    "from sklearn.model_selection import train_test_split\n",
    "X_train, X_test, y_train, y_test = train_test_split(X, y, test_size = 0.20)"
   ]
  },
  {
   "cell_type": "code",
   "execution_count": 31,
   "metadata": {},
   "outputs": [
    {
     "data": {
      "text/plain": [
       "MultinomialNB(alpha=1.0, class_prior=None, fit_prior=True)"
      ]
     },
     "execution_count": 31,
     "metadata": {},
     "output_type": "execute_result"
    }
   ],
   "source": [
    "# Training the Niave Bayes classifier\n",
    "from sklearn.naive_bayes import MultinomialNB\n",
    "NB_Classifier = MultinomialNB()\n",
    "NB_Classifier.fit(X_train, y_train)"
   ]
  },
  {
   "cell_type": "markdown",
   "metadata": {},
   "source": [
    "# Evaluating the Model"
   ]
  },
  {
   "cell_type": "code",
   "execution_count": 36,
   "metadata": {},
   "outputs": [],
   "source": [
    "from sklearn.metrics import classification_report, confusion_matrix\n",
    "y_predict_train = NB_Classifier.predict(X_train)"
   ]
  },
  {
   "cell_type": "code",
   "execution_count": 41,
   "metadata": {},
   "outputs": [
    {
     "data": {
      "text/plain": [
       "<matplotlib.axes._subplots.AxesSubplot at 0x167a3353eb8>"
      ]
     },
     "execution_count": 41,
     "metadata": {},
     "output_type": "execute_result"
    },
    {
     "data": {
      "image/png": "[encoded data removed]",
      "text/plain": [
       "<Figure size 432x288 with 2 Axes>"
      ]
     },
     "metadata": {
      "needs_background": "light"
     },
     "output_type": "display_data"
    }
   ],
   "source": [
    "# confusion matrix to test accuracy of training model\n",
    "cm = confusion_matrix(y_train, y_predict_train)\n",
    "sns.heatmap(cm, annot = True)"
   ]
  },
  {
   "cell_type": "code",
   "execution_count": 46,
   "metadata": {
    "scrolled": false
   },
   "outputs": [
    {
     "name": "stdout",
     "output_type": "stream",
     "text": [
      "              precision    recall  f1-score   support\n",
      "\n",
      "     Convert       0.99      0.98      0.99       154\n",
      "      Engage       0.92      0.92      0.92        13\n",
      "     Enhance       1.00      1.00      1.00         9\n",
      "      Evolve       0.92      1.00      0.96        45\n",
      "     Inspire       1.00      1.00      1.00        17\n",
      "       Trust       1.00      0.98      0.99       106\n",
      "\n",
      "    accuracy                           0.98       344\n",
      "   macro avg       0.97      0.98      0.98       344\n",
      "weighted avg       0.98      0.98      0.98       344\n",
      "\n"
     ]
    }
   ],
   "source": [
    "print(classification_report(y_train, y_predict_train))"
   ]
  },
  {
   "cell_type": "code",
   "execution_count": 44,
   "metadata": {},
   "outputs": [
    {
     "data": {
      "text/plain": [
       "<matplotlib.axes._subplots.AxesSubplot at 0x167a3429cc0>"
      ]
     },
     "execution_count": 44,
     "metadata": {},
     "output_type": "execute_result"
    },
    {
     "data": {
      "image/png": "[encoded data removed]",
      "text/plain": [
       "<Figure size 432x288 with 2 Axes>"
      ]
     },
     "metadata": {
      "needs_background": "light"
     },
     "output_type": "display_data"
    }
   ],
   "source": [
    "# confusion matrix to test accuracy of testing model\n",
    "y_predict_test = NB_Classifier.predict(X_test)\n",
    "cm2 = confusion_matrix(y_test, y_predict_test)\n",
    "sns.heatmap(cm2, annot = True)"
   ]
  },
  {
   "cell_type": "code",
   "execution_count": 45,
   "metadata": {
    "scrolled": true
   },
   "outputs": [
    {
     "name": "stdout",
     "output_type": "stream",
     "text": [
      "              precision    recall  f1-score   support\n",
      "\n",
      "   Add Value       0.00      0.00      0.00         2\n",
      "     Convert       0.95      1.00      0.98        42\n",
      "      Engage       0.00      0.00      0.00         2\n",
      "     Enhance       1.00      0.75      0.86         4\n",
      "      Evolve       0.85      1.00      0.92        11\n",
      "     Inspire       0.00      0.00      0.00         2\n",
      "       Trust       0.88      0.91      0.89        23\n",
      "\n",
      "    accuracy                           0.90        86\n",
      "   macro avg       0.53      0.52      0.52        86\n",
      "weighted avg       0.85      0.90      0.87        86\n",
      "\n"
     ]
    },
    {
     "name": "stderr",
     "output_type": "stream",
     "text": [
      "C:\\Users\\amber.toro\\AppData\\Local\\Continuum\\anaconda3\\lib\\site-packages\\sklearn\\metrics\\classification.py:1437: UndefinedMetricWarning: Precision and F-score are ill-defined and being set to 0.0 in labels with no predicted samples.\n",
      "  'precision', 'predicted', average, warn_for)\n"
     ]
    }
   ],
   "source": [
    "print(classification_report(y_test, y_predict_test))"
   ]
  },
  {
   "cell_type": "markdown",
   "metadata": {},
   "source": [
    "# Training On The Whole Labeled Dataset"
   ]
  },
  {
   "cell_type": "code",
   "execution_count": 47,
   "metadata": {},
   "outputs": [],
   "source": [
    "from sklearn.naive_bayes import MultinomialNB\n",
    "\n",
    "NB_Classifier = MultinomialNB()\n",
    "label = df[\"Page Purpose\"].values"
   ]
  },
  {
   "cell_type": "code",
   "execution_count": 48,
   "metadata": {},
   "outputs": [
    {
     "data": {
      "text/plain": [
       "MultinomialNB(alpha=1.0, class_prior=None, fit_prior=True)"
      ]
     },
     "execution_count": 48,
     "metadata": {},
     "output_type": "execute_result"
    }
   ],
   "source": [
    "# training the model on the full labeled training set\n",
    "NB_Classifier.fit(df_countvectorizer, label)"
   ]
  },
  {
   "cell_type": "code",
   "execution_count": 50,
   "metadata": {},
   "outputs": [
    {
     "data": {
      "text/plain": [
       "array(['Convert'], dtype='<U9')"
      ]
     },
     "execution_count": 50,
     "metadata": {},
     "output_type": "execute_result"
    }
   ],
   "source": [
    "# sample test\n",
    "testing_sample = [\"This school is the best! \"]\n",
    "\n",
    "testing_sample_countvectorizer = vectorizer.transform(testing_sample)\n",
    "NB_Classifier.predict(testing_sample_countvectorizer)"
   ]
  },
  {
   "cell_type": "code",
   "execution_count": 115,
   "metadata": {},
   "outputs": [],
   "source": [
    "# loop to predict and assign values to all unlabeled data in the dataset\n",
    "Page_Purpose = []\n",
    "\n",
    "for row in dataset['Page Content']:\n",
    "    testing_sample_countvectorizor = vectorizer.transform([row])\n",
    "    purpose = [(NB_Classifier.predict(testing_sample_countvectorizor))]\n",
    "    Page_Purpose.append(purpose) \n",
    "    \n",
    "dataset['Page_Purpose'] = Page_Purpose"
   ]
  },
  {
   "cell_type": "code",
   "execution_count": 116,
   "metadata": {
    "collapsed": true
   },
   "outputs": [
    {
     "data": {
      "text/html": [
       "<div>\n",
       "<style scoped>\n",
       "    .dataframe tbody tr th:only-of-type {\n",
       "        vertical-align: middle;\n",
       "    }\n",
       "\n",
       "    .dataframe tbody tr th {\n",
       "        vertical-align: top;\n",
       "    }\n",
       "\n",
       "    .dataframe thead th {\n",
       "        text-align: right;\n",
       "    }\n",
       "</style>\n",
       "<table border=\"1\" class=\"dataframe\">\n",
       "  <thead>\n",
       "    <tr style=\"text-align: right;\">\n",
       "      <th></th>\n",
       "      <th>Page URL</th>\n",
       "      <th>Page Content</th>\n",
       "      <th>Page_Purpose</th>\n",
       "    </tr>\n",
       "  </thead>\n",
       "  <tbody>\n",
       "    <tr>\n",
       "      <th>0</th>\n",
       "      <td>https://www.wgu.edu/www.wgu.edu</td>\n",
       "      <td>'Degrees'</td>\n",
       "      <td>[[Trust]]</td>\n",
       "    </tr>\n",
       "    <tr>\n",
       "      <th>1</th>\n",
       "      <td>https://www.wgu.edu/online-degree-programs.html</td>\n",
       "      <td>'WGU is an online school\\xa0with career-aligne...</td>\n",
       "      <td>[[Trust]]</td>\n",
       "    </tr>\n",
       "    <tr>\n",
       "      <th>2</th>\n",
       "      <td>https://www.wgu.edu/admissions.html</td>\n",
       "      <td>'WGU seeks to admit individuals who have the c...</td>\n",
       "      <td>[[Trust]]</td>\n",
       "    </tr>\n",
       "    <tr>\n",
       "      <th>3</th>\n",
       "      <td>https://www.wgu.edu/financial-aid-tuition.html</td>\n",
       "      <td>\"WGU is committed to keeping tuition low—in fa...</td>\n",
       "      <td>[[Enhance]]</td>\n",
       "    </tr>\n",
       "    <tr>\n",
       "      <th>4</th>\n",
       "      <td>https://www.wgu.edu/about.html</td>\n",
       "      <td>'This is a university made for a new kind of s...</td>\n",
       "      <td>[[Trust]]</td>\n",
       "    </tr>\n",
       "    <tr>\n",
       "      <th>5</th>\n",
       "      <td>https://www.wgu.edu/inquiry.wgu.edu/#!/inquiry...</td>\n",
       "      <td>'Degrees'</td>\n",
       "      <td>[[Trust]]</td>\n",
       "    </tr>\n",
       "    <tr>\n",
       "      <th>6</th>\n",
       "      <td>https://www.wgu.edu/inquiry.wgu.edu/#!/applica...</td>\n",
       "      <td>'Degrees'</td>\n",
       "      <td>[[Trust]]</td>\n",
       "    </tr>\n",
       "    <tr>\n",
       "      <th>7</th>\n",
       "      <td>https://www.wgu.edu/online-business-degrees.html</td>\n",
       "      <td>\"You want to be noticed in today's market as a...</td>\n",
       "      <td>[[Trust]]</td>\n",
       "    </tr>\n",
       "    <tr>\n",
       "      <th>8</th>\n",
       "      <td>https://www.wgu.edu/online-teaching-degrees.html</td>\n",
       "      <td>'Start exploring your degree options by lookin...</td>\n",
       "      <td>[[Trust]]</td>\n",
       "    </tr>\n",
       "    <tr>\n",
       "      <th>9</th>\n",
       "      <td>https://www.wgu.edu/online-it-degrees.html</td>\n",
       "      <td>\"The opportunities in the IT field are limitle...</td>\n",
       "      <td>[[Trust]]</td>\n",
       "    </tr>\n",
       "    <tr>\n",
       "      <th>10</th>\n",
       "      <td>https://www.wgu.edu/online-nursing-health-degr...</td>\n",
       "      <td>\"The healthcare industry demands more from emp...</td>\n",
       "      <td>[[Trust]]</td>\n",
       "    </tr>\n",
       "    <tr>\n",
       "      <th>11</th>\n",
       "      <td>https://www.wgu.edu/online-business-degrees/bu...</td>\n",
       "      <td>'Become a better manager and a more confident ...</td>\n",
       "      <td>[[Convert]]</td>\n",
       "    </tr>\n",
       "    <tr>\n",
       "      <th>12</th>\n",
       "      <td>https://www.wgu.edu/online-business-degrees/he...</td>\n",
       "      <td>'Healthcare is a booming career field, and tod...</td>\n",
       "      <td>[[Convert]]</td>\n",
       "    </tr>\n",
       "    <tr>\n",
       "      <th>13</th>\n",
       "      <td>https://www.wgu.edu/online-business-degrees/hu...</td>\n",
       "      <td>'Every company needs hard-working, problem-sol...</td>\n",
       "      <td>[[Convert]]</td>\n",
       "    </tr>\n",
       "    <tr>\n",
       "      <th>14</th>\n",
       "      <td>https://www.wgu.edu/online-business-degrees/it...</td>\n",
       "      <td>'From small to large, private or public, for-p...</td>\n",
       "      <td>[[Convert]]</td>\n",
       "    </tr>\n",
       "    <tr>\n",
       "      <th>15</th>\n",
       "      <td>https://www.wgu.edu/online-business-degrees/ma...</td>\n",
       "      <td>'To thrive in today\\'s business world, marketi...</td>\n",
       "      <td>[[Convert]]</td>\n",
       "    </tr>\n",
       "    <tr>\n",
       "      <th>16</th>\n",
       "      <td>https://www.wgu.edu/online-business-degrees/ac...</td>\n",
       "      <td>'If you have a knack for numbers and an intere...</td>\n",
       "      <td>[[Convert]]</td>\n",
       "    </tr>\n",
       "    <tr>\n",
       "      <th>17</th>\n",
       "      <td>https://www.wgu.edu/online-nursing-health-degr...</td>\n",
       "      <td>'With a health information management degree f...</td>\n",
       "      <td>[[Convert]]</td>\n",
       "    </tr>\n",
       "    <tr>\n",
       "      <th>18</th>\n",
       "      <td>https://www.wgu.edu/online-business-degrees/mb...</td>\n",
       "      <td>'What will get you noticed in today\\'s job mar...</td>\n",
       "      <td>[[Convert]]</td>\n",
       "    </tr>\n",
       "    <tr>\n",
       "      <th>19</th>\n",
       "      <td>https://www.wgu.edu/online-business-degrees/mb...</td>\n",
       "      <td>'In this tech-dependent environment, even one ...</td>\n",
       "      <td>[[Convert]]</td>\n",
       "    </tr>\n",
       "    <tr>\n",
       "      <th>20</th>\n",
       "      <td>https://www.wgu.edu/online-business-degrees/mb...</td>\n",
       "      <td>'Tune into the news, and you\\'re likely to fin...</td>\n",
       "      <td>[[Convert]]</td>\n",
       "    </tr>\n",
       "    <tr>\n",
       "      <th>21</th>\n",
       "      <td>https://www.wgu.edu/online-nursing-health-degr...</td>\n",
       "      <td>'What is value-based care? It\\'s a transformat...</td>\n",
       "      <td>[[Convert]]</td>\n",
       "    </tr>\n",
       "    <tr>\n",
       "      <th>22</th>\n",
       "      <td>https://www.wgu.edu/online-business-degrees/ma...</td>\n",
       "      <td>'Being a manager who confidently leads organiz...</td>\n",
       "      <td>[[Convert]]</td>\n",
       "    </tr>\n",
       "    <tr>\n",
       "      <th>23</th>\n",
       "      <td>https://www.wgu.edu/online-business-degrees/ac...</td>\n",
       "      <td>'Banking laws. Government regulations. A compl...</td>\n",
       "      <td>[[Convert]]</td>\n",
       "    </tr>\n",
       "    <tr>\n",
       "      <th>24</th>\n",
       "      <td>https://www.wgu.edu/online-it-degrees/data-ana...</td>\n",
       "      <td>'Data is big business, and the demand for cand...</td>\n",
       "      <td>[[Convert]]</td>\n",
       "    </tr>\n",
       "    <tr>\n",
       "      <th>25</th>\n",
       "      <td>https://www.wgu.edu/online-it-degrees/informat...</td>\n",
       "      <td>'Leaders drive innovation. Nearly every organi...</td>\n",
       "      <td>[[Convert]]</td>\n",
       "    </tr>\n",
       "    <tr>\n",
       "      <th>26</th>\n",
       "      <td>https://www.wgu.edu/online-teaching-degrees/el...</td>\n",
       "      <td>'Put your passion to work with a teaching care...</td>\n",
       "      <td>[[Convert]]</td>\n",
       "    </tr>\n",
       "    <tr>\n",
       "      <th>27</th>\n",
       "      <td>https://www.wgu.edu/online-teaching-degrees/sp...</td>\n",
       "      <td>'This B.A. in Special Education and Elementary...</td>\n",
       "      <td>[[Convert]]</td>\n",
       "    </tr>\n",
       "    <tr>\n",
       "      <th>28</th>\n",
       "      <td>https://www.wgu.edu/online-teaching-degrees/sp...</td>\n",
       "      <td>'This B.A. in Special Education (Mild to Moder...</td>\n",
       "      <td>[[Convert]]</td>\n",
       "    </tr>\n",
       "    <tr>\n",
       "      <th>29</th>\n",
       "      <td>https://www.wgu.edu/online-teaching-degrees/ma...</td>\n",
       "      <td>'Balancing a checkbook. Calculating a restaura...</td>\n",
       "      <td>[[Convert]]</td>\n",
       "    </tr>\n",
       "    <tr>\n",
       "      <th>...</th>\n",
       "      <td>...</td>\n",
       "      <td>...</td>\n",
       "      <td>...</td>\n",
       "    </tr>\n",
       "    <tr>\n",
       "      <th>1850</th>\n",
       "      <td>https://www.wgu.edu/about/institutional-catalo...</td>\n",
       "      <td>\"The WGU Institutional Catalog contains detail...</td>\n",
       "      <td>[[Trust]]</td>\n",
       "    </tr>\n",
       "    <tr>\n",
       "      <th>1851</th>\n",
       "      <td>https://www.wgu.edu/about.html</td>\n",
       "      <td>'This is a university made for a new kind of s...</td>\n",
       "      <td>[[Trust]]</td>\n",
       "    </tr>\n",
       "    <tr>\n",
       "      <th>1852</th>\n",
       "      <td>https://www.wgu.edu/about/accreditation.html</td>\n",
       "      <td>'Choosing a school that is accredited by a rec...</td>\n",
       "      <td>[[Trust]]</td>\n",
       "    </tr>\n",
       "    <tr>\n",
       "      <th>1853</th>\n",
       "      <td>https://www.wgu.edu/newsroom.html</td>\n",
       "      <td>'Joan Mitchell, VP Public Relations'</td>\n",
       "      <td>[[Trust]]</td>\n",
       "    </tr>\n",
       "    <tr>\n",
       "      <th>1854</th>\n",
       "      <td>https://www.wgu.edu/about/jobs.html</td>\n",
       "      <td>'If you’re passionate about building a better ...</td>\n",
       "      <td>[[Trust]]</td>\n",
       "    </tr>\n",
       "    <tr>\n",
       "      <th>1855</th>\n",
       "      <td>https://www.wgu.edu/student-portal.html</td>\n",
       "      <td>'Go to the WGU Student Portal by visiting:'</td>\n",
       "      <td>[[Trust]]</td>\n",
       "    </tr>\n",
       "    <tr>\n",
       "      <th>1856</th>\n",
       "      <td>https://www.wgu.edu/alumni.html</td>\n",
       "      <td>\"Your success is our ultimate goal.\\xa0\\xa0Car...</td>\n",
       "      <td>[[Trust]]</td>\n",
       "    </tr>\n",
       "    <tr>\n",
       "      <th>1857</th>\n",
       "      <td>https://www.wgu.edu/www.wgu.edu/online-degree-...</td>\n",
       "      <td>'Degrees'</td>\n",
       "      <td>[[Trust]]</td>\n",
       "    </tr>\n",
       "    <tr>\n",
       "      <th>1858</th>\n",
       "      <td>https://www.wgu.edu/online-degree-programs/bac...</td>\n",
       "      <td>\"WGU is an online university with career-align...</td>\n",
       "      <td>[[Trust]]</td>\n",
       "    </tr>\n",
       "    <tr>\n",
       "      <th>1859</th>\n",
       "      <td>https://www.wgu.edu/online-degree-programs/mas...</td>\n",
       "      <td>\"WGU is an online university with career-align...</td>\n",
       "      <td>[[Trust]]</td>\n",
       "    </tr>\n",
       "    <tr>\n",
       "      <th>1860</th>\n",
       "      <td>https://www.wgu.edu/online-business-degrees.html</td>\n",
       "      <td>\"You want to be noticed in today's market as a...</td>\n",
       "      <td>[[Trust]]</td>\n",
       "    </tr>\n",
       "    <tr>\n",
       "      <th>1861</th>\n",
       "      <td>https://www.wgu.edu/online-business-degrees/ba...</td>\n",
       "      <td>'The list of companies that have hired WGU gra...</td>\n",
       "      <td>[[Trust]]</td>\n",
       "    </tr>\n",
       "    <tr>\n",
       "      <th>1862</th>\n",
       "      <td>https://www.wgu.edu/online-business-degrees/ma...</td>\n",
       "      <td>'With three online\\xa0MBA\\xa0degree options fo...</td>\n",
       "      <td>[[Trust]]</td>\n",
       "    </tr>\n",
       "    <tr>\n",
       "      <th>1863</th>\n",
       "      <td>https://www.wgu.edu/online-teaching-degrees.html</td>\n",
       "      <td>'Start exploring your degree options by lookin...</td>\n",
       "      <td>[[Trust]]</td>\n",
       "    </tr>\n",
       "    <tr>\n",
       "      <th>1864</th>\n",
       "      <td>https://www.wgu.edu/online-teaching-degrees/ce...</td>\n",
       "      <td>\"Future teachers, your path to licensure is he...</td>\n",
       "      <td>[[Trust]]</td>\n",
       "    </tr>\n",
       "    <tr>\n",
       "      <th>1865</th>\n",
       "      <td>https://www.wgu.edu/online-teaching-degrees/ed...</td>\n",
       "      <td>\"An educator is also a lifelong learner. A mas...</td>\n",
       "      <td>[[Trust]]</td>\n",
       "    </tr>\n",
       "    <tr>\n",
       "      <th>1866</th>\n",
       "      <td>https://www.wgu.edu/online-it-degrees.html</td>\n",
       "      <td>\"The opportunities in the IT field are limitle...</td>\n",
       "      <td>[[Trust]]</td>\n",
       "    </tr>\n",
       "    <tr>\n",
       "      <th>1867</th>\n",
       "      <td>https://www.wgu.edu/online-it-degrees/bachelor...</td>\n",
       "      <td>'You’ve got the experience, the knack for tech...</td>\n",
       "      <td>[[Trust]]</td>\n",
       "    </tr>\n",
       "    <tr>\n",
       "      <th>1868</th>\n",
       "      <td>https://www.wgu.edu/online-it-degrees/masters-...</td>\n",
       "      <td>\"It's time your career matched your potential....</td>\n",
       "      <td>[[Trust]]</td>\n",
       "    </tr>\n",
       "    <tr>\n",
       "      <th>1869</th>\n",
       "      <td>https://www.wgu.edu/online-nursing-health-degr...</td>\n",
       "      <td>\"The healthcare industry demands more from emp...</td>\n",
       "      <td>[[Trust]]</td>\n",
       "    </tr>\n",
       "    <tr>\n",
       "      <th>1870</th>\n",
       "      <td>https://www.wgu.edu/online-nursing-health-degr...</td>\n",
       "      <td>\"The healthcare industry is one of the fastest...</td>\n",
       "      <td>[[Trust]]</td>\n",
       "    </tr>\n",
       "    <tr>\n",
       "      <th>1871</th>\n",
       "      <td>https://www.wgu.edu/online-nursing-health-degr...</td>\n",
       "      <td>\"Today’s fast-growing healthcare industry offe...</td>\n",
       "      <td>[[Trust]]</td>\n",
       "    </tr>\n",
       "    <tr>\n",
       "      <th>1872</th>\n",
       "      <td>https://www.wgu.edu/indiana.html</td>\n",
       "      <td>\"Back to School Scholarship. Apply by Septembe...</td>\n",
       "      <td>[[Trust]]</td>\n",
       "    </tr>\n",
       "    <tr>\n",
       "      <th>1873</th>\n",
       "      <td>https://www.wgu.edu/missouri.html</td>\n",
       "      <td>\"Back to School Scholarship. Apply by Septembe...</td>\n",
       "      <td>[[Trust]]</td>\n",
       "    </tr>\n",
       "    <tr>\n",
       "      <th>1874</th>\n",
       "      <td>https://www.wgu.edu/nevada.html</td>\n",
       "      <td>'\"Affordable access to accredited education is...</td>\n",
       "      <td>[[Trust]]</td>\n",
       "    </tr>\n",
       "    <tr>\n",
       "      <th>1875</th>\n",
       "      <td>https://www.wgu.edu/north-carolina.html</td>\n",
       "      <td>\"Jordan is an outstanding 1st-grade teacher in...</td>\n",
       "      <td>[[Trust]]</td>\n",
       "    </tr>\n",
       "    <tr>\n",
       "      <th>1876</th>\n",
       "      <td>https://www.wgu.edu/ohio.html</td>\n",
       "      <td>\"Back to School Scholarship. Apply by Septembe...</td>\n",
       "      <td>[[Trust]]</td>\n",
       "    </tr>\n",
       "    <tr>\n",
       "      <th>1877</th>\n",
       "      <td>https://www.wgu.edu/tennessee.html</td>\n",
       "      <td>\"“What impresses me the most about WGU Tenness...</td>\n",
       "      <td>[[Trust]]</td>\n",
       "    </tr>\n",
       "    <tr>\n",
       "      <th>1878</th>\n",
       "      <td>https://www.wgu.edu/texas.html</td>\n",
       "      <td>\"Established by the state of Texas through a p...</td>\n",
       "      <td>[[Trust]]</td>\n",
       "    </tr>\n",
       "    <tr>\n",
       "      <th>1879</th>\n",
       "      <td>https://www.wgu.edu/washington.html</td>\n",
       "      <td>\"WGU Washington offers a flexible, affordable,...</td>\n",
       "      <td>[[Trust]]</td>\n",
       "    </tr>\n",
       "  </tbody>\n",
       "</table>\n",
       "<p>1880 rows × 3 columns</p>\n",
       "</div>"
      ],
      "text/plain": [
       "                                               Page URL  \\\n",
       "0                       https://www.wgu.edu/www.wgu.edu   \n",
       "1       https://www.wgu.edu/online-degree-programs.html   \n",
       "2                   https://www.wgu.edu/admissions.html   \n",
       "3        https://www.wgu.edu/financial-aid-tuition.html   \n",
       "4                        https://www.wgu.edu/about.html   \n",
       "5     https://www.wgu.edu/inquiry.wgu.edu/#!/inquiry...   \n",
       "6     https://www.wgu.edu/inquiry.wgu.edu/#!/applica...   \n",
       "7      https://www.wgu.edu/online-business-degrees.html   \n",
       "8      https://www.wgu.edu/online-teaching-degrees.html   \n",
       "9            https://www.wgu.edu/online-it-degrees.html   \n",
       "10    https://www.wgu.edu/online-nursing-health-degr...   \n",
       "11    https://www.wgu.edu/online-business-degrees/bu...   \n",
       "12    https://www.wgu.edu/online-business-degrees/he...   \n",
       "13    https://www.wgu.edu/online-business-degrees/hu...   \n",
       "14    https://www.wgu.edu/online-business-degrees/it...   \n",
       "15    https://www.wgu.edu/online-business-degrees/ma...   \n",
       "16    https://www.wgu.edu/online-business-degrees/ac...   \n",
       "17    https://www.wgu.edu/online-nursing-health-degr...   \n",
       "18    https://www.wgu.edu/online-business-degrees/mb...   \n",
       "19    https://www.wgu.edu/online-business-degrees/mb...   \n",
       "20    https://www.wgu.edu/online-business-degrees/mb...   \n",
       "21    https://www.wgu.edu/online-nursing-health-degr...   \n",
       "22    https://www.wgu.edu/online-business-degrees/ma...   \n",
       "23    https://www.wgu.edu/online-business-degrees/ac...   \n",
       "24    https://www.wgu.edu/online-it-degrees/data-ana...   \n",
       "25    https://www.wgu.edu/online-it-degrees/informat...   \n",
       "26    https://www.wgu.edu/online-teaching-degrees/el...   \n",
       "27    https://www.wgu.edu/online-teaching-degrees/sp...   \n",
       "28    https://www.wgu.edu/online-teaching-degrees/sp...   \n",
       "29    https://www.wgu.edu/online-teaching-degrees/ma...   \n",
       "...                                                 ...   \n",
       "1850  https://www.wgu.edu/about/institutional-catalo...   \n",
       "1851                     https://www.wgu.edu/about.html   \n",
       "1852       https://www.wgu.edu/about/accreditation.html   \n",
       "1853                  https://www.wgu.edu/newsroom.html   \n",
       "1854                https://www.wgu.edu/about/jobs.html   \n",
       "1855            https://www.wgu.edu/student-portal.html   \n",
       "1856                    https://www.wgu.edu/alumni.html   \n",
       "1857  https://www.wgu.edu/www.wgu.edu/online-degree-...   \n",
       "1858  https://www.wgu.edu/online-degree-programs/bac...   \n",
       "1859  https://www.wgu.edu/online-degree-programs/mas...   \n",
       "1860   https://www.wgu.edu/online-business-degrees.html   \n",
       "1861  https://www.wgu.edu/online-business-degrees/ba...   \n",
       "1862  https://www.wgu.edu/online-business-degrees/ma...   \n",
       "1863   https://www.wgu.edu/online-teaching-degrees.html   \n",
       "1864  https://www.wgu.edu/online-teaching-degrees/ce...   \n",
       "1865  https://www.wgu.edu/online-teaching-degrees/ed...   \n",
       "1866         https://www.wgu.edu/online-it-degrees.html   \n",
       "1867  https://www.wgu.edu/online-it-degrees/bachelor...   \n",
       "1868  https://www.wgu.edu/online-it-degrees/masters-...   \n",
       "1869  https://www.wgu.edu/online-nursing-health-degr...   \n",
       "1870  https://www.wgu.edu/online-nursing-health-degr...   \n",
       "1871  https://www.wgu.edu/online-nursing-health-degr...   \n",
       "1872                   https://www.wgu.edu/indiana.html   \n",
       "1873                  https://www.wgu.edu/missouri.html   \n",
       "1874                    https://www.wgu.edu/nevada.html   \n",
       "1875            https://www.wgu.edu/north-carolina.html   \n",
       "1876                      https://www.wgu.edu/ohio.html   \n",
       "1877                 https://www.wgu.edu/tennessee.html   \n",
       "1878                     https://www.wgu.edu/texas.html   \n",
       "1879                https://www.wgu.edu/washington.html   \n",
       "\n",
       "                                           Page Content Page_Purpose  \n",
       "0                                             'Degrees'    [[Trust]]  \n",
       "1     'WGU is an online school\\xa0with career-aligne...    [[Trust]]  \n",
       "2     'WGU seeks to admit individuals who have the c...    [[Trust]]  \n",
       "3     \"WGU is committed to keeping tuition low—in fa...  [[Enhance]]  \n",
       "4     'This is a university made for a new kind of s...    [[Trust]]  \n",
       "5                                             'Degrees'    [[Trust]]  \n",
       "6                                             'Degrees'    [[Trust]]  \n",
       "7     \"You want to be noticed in today's market as a...    [[Trust]]  \n",
       "8     'Start exploring your degree options by lookin...    [[Trust]]  \n",
       "9     \"The opportunities in the IT field are limitle...    [[Trust]]  \n",
       "10    \"The healthcare industry demands more from emp...    [[Trust]]  \n",
       "11    'Become a better manager and a more confident ...  [[Convert]]  \n",
       "12    'Healthcare is a booming career field, and tod...  [[Convert]]  \n",
       "13    'Every company needs hard-working, problem-sol...  [[Convert]]  \n",
       "14    'From small to large, private or public, for-p...  [[Convert]]  \n",
       "15    'To thrive in today\\'s business world, marketi...  [[Convert]]  \n",
       "16    'If you have a knack for numbers and an intere...  [[Convert]]  \n",
       "17    'With a health information management degree f...  [[Convert]]  \n",
       "18    'What will get you noticed in today\\'s job mar...  [[Convert]]  \n",
       "19    'In this tech-dependent environment, even one ...  [[Convert]]  \n",
       "20    'Tune into the news, and you\\'re likely to fin...  [[Convert]]  \n",
       "21    'What is value-based care? It\\'s a transformat...  [[Convert]]  \n",
       "22    'Being a manager who confidently leads organiz...  [[Convert]]  \n",
       "23    'Banking laws. Government regulations. A compl...  [[Convert]]  \n",
       "24    'Data is big business, and the demand for cand...  [[Convert]]  \n",
       "25    'Leaders drive innovation. Nearly every organi...  [[Convert]]  \n",
       "26    'Put your passion to work with a teaching care...  [[Convert]]  \n",
       "27    'This B.A. in Special Education and Elementary...  [[Convert]]  \n",
       "28    'This B.A. in Special Education (Mild to Moder...  [[Convert]]  \n",
       "29    'Balancing a checkbook. Calculating a restaura...  [[Convert]]  \n",
       "...                                                 ...          ...  \n",
       "1850  \"The WGU Institutional Catalog contains detail...    [[Trust]]  \n",
       "1851  'This is a university made for a new kind of s...    [[Trust]]  \n",
       "1852  'Choosing a school that is accredited by a rec...    [[Trust]]  \n",
       "1853               'Joan Mitchell, VP Public Relations'    [[Trust]]  \n",
       "1854  'If you’re passionate about building a better ...    [[Trust]]  \n",
       "1855        'Go to the WGU Student Portal by visiting:'    [[Trust]]  \n",
       "1856  \"Your success is our ultimate goal.\\xa0\\xa0Car...    [[Trust]]  \n",
       "1857                                          'Degrees'    [[Trust]]  \n",
       "1858  \"WGU is an online university with career-align...    [[Trust]]  \n",
       "1859  \"WGU is an online university with career-align...    [[Trust]]  \n",
       "1860  \"You want to be noticed in today's market as a...    [[Trust]]  \n",
       "1861  'The list of companies that have hired WGU gra...    [[Trust]]  \n",
       "1862  'With three online\\xa0MBA\\xa0degree options fo...    [[Trust]]  \n",
       "1863  'Start exploring your degree options by lookin...    [[Trust]]  \n",
       "1864  \"Future teachers, your path to licensure is he...    [[Trust]]  \n",
       "1865  \"An educator is also a lifelong learner. A mas...    [[Trust]]  \n",
       "1866  \"The opportunities in the IT field are limitle...    [[Trust]]  \n",
       "1867  'You’ve got the experience, the knack for tech...    [[Trust]]  \n",
       "1868  \"It's time your career matched your potential....    [[Trust]]  \n",
       "1869  \"The healthcare industry demands more from emp...    [[Trust]]  \n",
       "1870  \"The healthcare industry is one of the fastest...    [[Trust]]  \n",
       "1871  \"Today’s fast-growing healthcare industry offe...    [[Trust]]  \n",
       "1872  \"Back to School Scholarship. Apply by Septembe...    [[Trust]]  \n",
       "1873  \"Back to School Scholarship. Apply by Septembe...    [[Trust]]  \n",
       "1874  '\"Affordable access to accredited education is...    [[Trust]]  \n",
       "1875  \"Jordan is an outstanding 1st-grade teacher in...    [[Trust]]  \n",
       "1876  \"Back to School Scholarship. Apply by Septembe...    [[Trust]]  \n",
       "1877  \"“What impresses me the most about WGU Tenness...    [[Trust]]  \n",
       "1878  \"Established by the state of Texas through a p...    [[Trust]]  \n",
       "1879  \"WGU Washington offers a flexible, affordable,...    [[Trust]]  \n",
       "\n",
       "[1880 rows x 3 columns]"
      ]
     },
     "execution_count": 116,
     "metadata": {},
     "output_type": "execute_result"
    }
   ],
   "source": [
    "dataset"
   ]
  },
  {
   "cell_type": "code",
   "execution_count": 123,
   "metadata": {},
   "outputs": [],
   "source": [
    "# Saveing predictions to a csv\n",
    "dataset.to_csv('Page Purpose Whole Labaled Dataset.csv', index = False)"
   ]
  },
  {
   "cell_type": "code",
   "execution_count": 124,
   "metadata": {},
   "outputs": [],
   "source": [
    "final_df = pd.read_csv('Page Purpose Whole Labaled Dataset.csv')"
   ]
  },
  {
   "cell_type": "code",
   "execution_count": 126,
   "metadata": {},
   "outputs": [
    {
     "data": {
      "text/plain": [
       "<matplotlib.axes._subplots.AxesSubplot at 0x167a2fafb38>"
      ]
     },
     "execution_count": 126,
     "metadata": {},
     "output_type": "execute_result"
    },
    {
     "data": {
      "image/png": "[encoded data removed]",
      "text/plain": [
       "<Figure size 432x288 with 1 Axes>"
      ]
     },
     "metadata": {
      "needs_background": "light"
     },
     "output_type": "display_data"
    }
   ],
   "source": [
    "# distribution of final predicted labels\n",
    "sns.countplot(final_df['Page_Purpose'])"
   ]
  },
  {
   "cell_type": "code",
   "execution_count": null,
   "metadata": {},
   "outputs": [],
   "source": []
  }
 ],
 "metadata": {
  "kernelspec": {
   "display_name": "Python 3",
   "language": "python",
   "name": "python3"
  },
  "language_info": {
   "codemirror_mode": {
    "name": "ipython",
    "version": 3
   },
   "file_extension": ".py",
   "mimetype": "text/x-python",
   "name": "python",
   "nbconvert_exporter": "python",
   "pygments_lexer": "ipython3",
   "version": "3.6.8"
  }
 },
 "nbformat": 4,
 "nbformat_minor": 2
}
